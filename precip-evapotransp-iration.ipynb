{
 "cells": [
  {
   "cell_type": "markdown",
   "metadata": {},
   "source": [
    "# Evapotranspiration and Precipitation across 6 AZMET Sites"
   ]
  },
  {
   "cell_type": "code",
   "execution_count": 2,
   "metadata": {},
   "outputs": [
    {
     "name": "stderr",
     "output_type": "stream",
     "text": [
      "Warning message:\n",
      "\"package 'dplyr' was built under R version 3.6.3\"\n",
      "Attaching package: 'dplyr'\n",
      "\n",
      "The following objects are masked from 'package:stats':\n",
      "\n",
      "    filter, lag\n",
      "\n",
      "The following objects are masked from 'package:base':\n",
      "\n",
      "    intersect, setdiff, setequal, union\n",
      "\n",
      "Registered S3 method overwritten by 'rvest':\n",
      "  method            from\n",
      "  read_xml.response xml2\n",
      "-- Attaching packages ------------------------------------------------------------------------------- tidyverse 1.2.1 --\n",
      "v ggplot2 3.3.3     v readr   1.3.1\n",
      "v tibble  3.0.4     v purrr   0.3.2\n",
      "v tidyr   1.1.3     v stringr 1.4.0\n",
      "v ggplot2 3.3.3     v forcats 0.4.0\n",
      "Warning message:\n",
      "\"package 'ggplot2' was built under R version 3.6.3\"Warning message:\n",
      "\"package 'tibble' was built under R version 3.6.3\"Warning message:\n",
      "\"package 'tidyr' was built under R version 3.6.3\"-- Conflicts ---------------------------------------------------------------------------------- tidyverse_conflicts() --\n",
      "x dplyr::filter() masks stats::filter()\n",
      "x dplyr::lag()    masks stats::lag()\n",
      "Warning message:\n",
      "\"package 'glmnet' was built under R version 3.6.3\"Loading required package: Matrix\n",
      "\n",
      "Attaching package: 'Matrix'\n",
      "\n",
      "The following objects are masked from 'package:tidyr':\n",
      "\n",
      "    expand, pack, unpack\n",
      "\n",
      "Loaded glmnet 4.1-1\n",
      "Warning message:\n",
      "\"package 'corrplot' was built under R version 3.6.3\"corrplot 0.84 loaded\n"
     ]
    }
   ],
   "source": [
    "library(dplyr)\n",
    "library(tidyverse)\n",
    "library(ggplot2)\n",
    "library(glmnet)\n",
    "library(corrplot)"
   ]
  },
  {
   "cell_type": "code",
   "execution_count": 3,
   "metadata": {},
   "outputs": [
    {
     "name": "stderr",
     "output_type": "stream",
     "text": [
      "`summarise()` ungrouping output (override with `.groups` argument)\n"
     ]
    }
   ],
   "source": [
    "aguila87 = read.table(\"Data/UAZ/aguila/0787rd.txt\", sep = \",\")\n",
    "aguila88 = read.table(\"Data/UAZ/aguila/0788rd.txt\", sep = \",\")\n",
    "aguila89 = read.table(\"Data/UAZ/aguila/0789rd.txt\", sep = \",\")\n",
    "aguila90 = read.table(\"Data/UAZ/aguila/0790rd.txt\", sep = \",\")\n",
    "aguila91 = read.table(\"Data/UAZ/aguila/0791rd.txt\", sep = \",\")\n",
    "aguila92 = read.table(\"Data/UAZ/aguila/0792rd.txt\", sep = \",\")\n",
    "aguila93 = read.table(\"Data/UAZ/aguila/0793rd.txt\", sep = \",\")\n",
    "aguila94 = read.table(\"Data/UAZ/aguila/0794rd.txt\", sep = \",\")\n",
    "aguila95 = read.table(\"Data/UAZ/aguila/0795rd.txt\", sep = \",\")\n",
    "aguila96 = read.table(\"Data/UAZ/aguila/0796rd.txt\", sep = \",\")\n",
    "aguila97 = read.table(\"Data/UAZ/aguila/0797rd.txt\", sep = \",\")\n",
    "aguila98 = read.table(\"Data/UAZ/aguila/0798rd.txt\", sep = \",\")\n",
    "aguila99 = read.table(\"Data/UAZ/aguila/0799rd.txt\", sep = \",\")\n",
    "aguila00 = read.table(\"Data/UAZ/aguila/0700rd.txt\", sep = \",\")\n",
    "aguila01 = read.table(\"Data/UAZ/aguila/0701rd.txt\", sep = \",\")\n",
    "aguila02 = read.table(\"Data/UAZ/aguila/0702rd.txt\", sep = \",\")\n",
    "aguila03 = read.table(\"Data/UAZ/aguila/0703rd.txt\", sep = \",\")\n",
    "aguila04 = read.table(\"Data/UAZ/aguila/0704rd.txt\", sep = \",\")\n",
    "aguila05 = read.table(\"Data/UAZ/aguila/0705rd.txt\", sep = \",\")\n",
    "aguila06 = read.table(\"Data/UAZ/aguila/0706rd.txt\", sep = \",\")\n",
    "aguila07 = read.table(\"Data/UAZ/aguila/0707rd.txt\", sep = \",\")\n",
    "aguila08 = read.table(\"Data/UAZ/aguila/0708rd.txt\", sep = \",\")\n",
    "aguila09 = read.table(\"Data/UAZ/aguila/0709rd.txt\", sep = \",\")\n",
    "aguila10 = read.table(\"Data/UAZ/aguila/0710rd.txt\", sep = \",\")\n",
    "aguila11 = read.table(\"Data/UAZ/aguila/0711rd.txt\", sep = \",\")\n",
    "aguila12 = read.table(\"Data/UAZ/aguila/0712rd.txt\", sep = \",\")\n",
    "aguila13 = read.table(\"Data/UAZ/aguila/0713rd.txt\", sep = \",\")\n",
    "aguila14 = read.table(\"Data/UAZ/aguila/0714rd.txt\", sep = \",\")\n",
    "aguila15 = read.table(\"Data/UAZ/aguila/0715rd.txt\", sep = \",\")\n",
    "aguila16 = read.table(\"Data/UAZ/aguila/0716rd.txt\", sep = \",\")\n",
    "aguila17 = read.table(\"Data/UAZ/aguila/0717rd.txt\", sep = \",\")\n",
    "aguila18 = read.table(\"Data/UAZ/aguila/0718rd.txt\", sep = \",\")\n",
    "aguila19 = read.table(\"Data/UAZ/aguila/0719rd.txt\", sep = \",\")\n",
    "aguila20 = read.table(\"Data/UAZ/aguila/0720rd.txt\", sep = \",\")\n",
    "aguila21 = read.table(\"Data/UAZ/aguila/0721rd.txt\", sep = \",\")\n",
    "\n",
    "aguila = bind_rows(aguila87,aguila88,aguila89,aguila90,aguila91,aguila92,aguila93,aguila94,aguila95,\n",
    "                   aguila96,aguila97,aguila98,aguila99,aguila00,aguila01,aguila02,aguila03,aguila04,\n",
    "                   aguila05,aguila06,aguila07,aguila08,aguila09,aguila10,aguila11,aguila12,aguila13,\n",
    "                   aguila14,aguila15,aguila16,aguila17,aguila18,aguila19,aguila20,aguila21)\n",
    "\n",
    "X = c('V1','V2','V12','V25')\n",
    "headers = c('Year','Day','Precipitation','ETo')\n",
    "aguila = aguila[X]\n",
    "colnames(aguila) = headers\n",
    "aguila = aguila %>% filter(Year>=87&Precipitation!=999&ETo!=999) %>% mutate(Accumulation = Precipitation-ETo)\n",
    "aguila_ann = aguila %>% group_by(Year) %>% summarise(Precipitation = sum(Precipitation), ETo = sum(ETo))"
   ]
  },
  {
   "cell_type": "code",
   "execution_count": 4,
   "metadata": {},
   "outputs": [
    {
     "name": "stderr",
     "output_type": "stream",
     "text": [
      "`summarise()` ungrouping output (override with `.groups` argument)\n"
     ]
    }
   ],
   "source": [
    "payson03 = read.table(\"Data/UAZ/payson/3203rd.txt\", sep = \",\")\n",
    "payson04 = read.table(\"Data/UAZ/payson/3204rd.txt\", sep = \",\")\n",
    "payson05 = read.table(\"Data/UAZ/payson/3205rd.txt\", sep = \",\")\n",
    "payson06 = read.table(\"Data/UAZ/payson/3206rd.txt\", sep = \",\")\n",
    "payson07 = read.table(\"Data/UAZ/payson/3207rd.txt\", sep = \",\")\n",
    "payson08 = read.table(\"Data/UAZ/payson/3208rd.txt\", sep = \",\")\n",
    "payson09 = read.table(\"Data/UAZ/payson/3209rd.txt\", sep = \",\")\n",
    "payson10 = read.table(\"Data/UAZ/payson/3210rd.txt\", sep = \",\")\n",
    "payson11 = read.table(\"Data/UAZ/payson/3211rd.txt\", sep = \",\")\n",
    "payson12 = read.table(\"Data/UAZ/payson/3212rd.txt\", sep = \",\")\n",
    "payson13 = read.table(\"Data/UAZ/payson/3213rd.txt\", sep = \",\")\n",
    "payson14 = read.table(\"Data/UAZ/payson/3214rd.txt\", sep = \",\")\n",
    "payson15 = read.table(\"Data/UAZ/payson/3215rd.txt\", sep = \",\")\n",
    "payson16 = read.table(\"Data/UAZ/payson/3216rd.txt\", sep = \",\")\n",
    "payson17 = read.table(\"Data/UAZ/payson/3217rd.txt\", sep = \",\")\n",
    "payson18 = read.table(\"Data/UAZ/payson/3218rd.txt\", sep = \",\")\n",
    "payson19 = read.table(\"Data/UAZ/payson/3219rd.txt\", sep = \",\")\n",
    "payson20 = read.table(\"Data/UAZ/payson/3220rd.txt\", sep = \",\")\n",
    "payson21 = read.table(\"Data/UAZ/payson/3221rd.txt\", sep = \",\")\n",
    "\n",
    "payson = bind_rows(payson03,payson04,payson05,payson06,payson07,payson08,payson09,payson10,payson11,\n",
    "                   payson12,payson13,payson14,payson15,payson16,payson17,payson18,payson19,payson20,\n",
    "                   payson21)\n",
    "\n",
    "payson = payson[X]\n",
    "colnames(payson) = headers\n",
    "payson = payson %>% filter(Year>=2003&Precipitation!=999&ETo!=999) %>% mutate(Accumulation = Precipitation-ETo)\n",
    "payson_ann = payson %>% group_by(Year) %>% summarise(Precipitation = sum(Precipitation), ETo = sum(ETo))"
   ]
  },
  {
   "cell_type": "code",
   "execution_count": 5,
   "metadata": {},
   "outputs": [
    {
     "name": "stderr",
     "output_type": "stream",
     "text": [
      "`summarise()` ungrouping output (override with `.groups` argument)\n"
     ]
    }
   ],
   "source": [
    "phoenix87 = read.table(\"Data/UAZ/phoenix-greenway/1287rd.txt\", sep = \",\")\n",
    "phoenix88 = read.table(\"Data/UAZ/phoenix-greenway/1288rd.txt\", sep = \",\")\n",
    "phoenix89 = read.table(\"Data/UAZ/phoenix-greenway/1289rd.txt\", sep = \",\")\n",
    "phoenix90 = read.table(\"Data/UAZ/phoenix-greenway/1290rd.txt\", sep = \",\")\n",
    "phoenix91 = read.table(\"Data/UAZ/phoenix-greenway/1291rd.txt\", sep = \",\")\n",
    "phoenix92 = read.table(\"Data/UAZ/phoenix-greenway/1292rd.txt\", sep = \",\")\n",
    "phoenix93 = read.table(\"Data/UAZ/phoenix-greenway/1293rd.txt\", sep = \",\")\n",
    "phoenix94 = read.table(\"Data/UAZ/phoenix-greenway/1294rd.txt\", sep = \",\")\n",
    "phoenix95 = read.table(\"Data/UAZ/phoenix-greenway/1295rd.txt\", sep = \",\")\n",
    "phoenix96 = read.table(\"Data/UAZ/phoenix-greenway/1296rd.txt\", sep = \",\")\n",
    "phoenix97 = read.table(\"Data/UAZ/phoenix-greenway/1297rd.txt\", sep = \",\")\n",
    "phoenix98 = read.table(\"Data/UAZ/phoenix-greenway/1298rd.txt\", sep = \",\")\n",
    "phoenix99 = read.table(\"Data/UAZ/phoenix-greenway/1299rd.txt\", sep = \",\")\n",
    "phoenix00 = read.table(\"Data/UAZ/phoenix-greenway/1200rd.txt\", sep = \",\")\n",
    "phoenix01 = read.table(\"Data/UAZ/phoenix-greenway/1201rd.txt\", sep = \",\")\n",
    "phoenix02 = read.table(\"Data/UAZ/phoenix-greenway/1202rd.txt\", sep = \",\")\n",
    "phoenix03 = read.table(\"Data/UAZ/phoenix-greenway/1203rd.txt\", sep = \",\")\n",
    "phoenix04 = read.table(\"Data/UAZ/phoenix-greenway/1204rd.txt\", sep = \",\")\n",
    "phoenix05 = read.table(\"Data/UAZ/phoenix-greenway/1205rd.txt\", sep = \",\")\n",
    "phoenix06 = read.table(\"Data/UAZ/phoenix-greenway/1206rd.txt\", sep = \",\")\n",
    "phoenix07 = read.table(\"Data/UAZ/phoenix-greenway/1207rd.txt\", sep = \",\")\n",
    "phoenix08 = read.table(\"Data/UAZ/phoenix-greenway/1208rd.txt\", sep = \",\")\n",
    "phoenix09 = read.table(\"Data/UAZ/phoenix-greenway/1209rd.txt\", sep = \",\")\n",
    "phoenix10 = read.table(\"Data/UAZ/phoenix-greenway/1210rd.txt\", sep = \",\")\n",
    "phoenix11 = read.table(\"Data/UAZ/phoenix-greenway/1211rd.txt\", sep = \",\")\n",
    "phoenix12 = read.table(\"Data/UAZ/phoenix-greenway/1212rd.txt\", sep = \",\")\n",
    "phoenix13 = read.table(\"Data/UAZ/phoenix-greenway/1213rd.txt\", sep = \",\")\n",
    "phoenix14 = read.table(\"Data/UAZ/phoenix-greenway/1214rd.txt\", sep = \",\")\n",
    "phoenix15 = read.table(\"Data/UAZ/phoenix-greenway/1215rd.txt\", sep = \",\")\n",
    "phoenix16 = read.table(\"Data/UAZ/phoenix-greenway/1216rd.txt\", sep = \",\")\n",
    "phoenix17 = read.table(\"Data/UAZ/phoenix-greenway/1217rd.txt\", sep = \",\")\n",
    "phoenix18 = read.table(\"Data/UAZ/phoenix-greenway/1218rd.txt\", sep = \",\")\n",
    "phoenix19 = read.table(\"Data/UAZ/phoenix-greenway/1219rd.txt\", sep = \",\")\n",
    "phoenix20 = read.table(\"Data/UAZ/phoenix-greenway/1220rd.txt\", sep = \",\")\n",
    "phoenix21 = read.table(\"Data/UAZ/phoenix-greenway/1221rd.txt\", sep = \",\")\n",
    "\n",
    "phoenix = bind_rows(phoenix87,phoenix88,phoenix89,phoenix90,phoenix91,phoenix92,phoenix93,phoenix94,phoenix95,\n",
    "                   phoenix96,phoenix97,phoenix98,phoenix99,phoenix00,phoenix01,phoenix02,phoenix03,phoenix04,\n",
    "                   phoenix05,phoenix06,phoenix07,phoenix08,phoenix09,phoenix10,phoenix11,phoenix12,phoenix13,\n",
    "                   phoenix14,phoenix15,phoenix16,phoenix17,phoenix18,phoenix19,phoenix20,phoenix21)\n",
    "\n",
    "phoenix = phoenix[X]\n",
    "colnames(phoenix) = headers\n",
    "phoenix = phoenix %>% filter(Year>=87&Precipitation!=999&ETo!=999) %>% mutate(Accumulation = Precipitation-ETo)\n",
    "phoenix_ann = phoenix %>% group_by(Year) %>% summarise(Precipitation = sum(Precipitation), ETo = sum(ETo))"
   ]
  },
  {
   "cell_type": "code",
   "execution_count": 6,
   "metadata": {},
   "outputs": [
    {
     "name": "stderr",
     "output_type": "stream",
     "text": [
      "`summarise()` ungrouping output (override with `.groups` argument)\n"
     ]
    }
   ],
   "source": [
    "sahuarita13 = read.table(\"Data/UAZ/sahuarita/3813rd.txt\", sep = \",\")\n",
    "sahuarita14 = read.table(\"Data/UAZ/sahuarita/3814rd.txt\", sep = \",\")\n",
    "sahuarita15 = read.table(\"Data/UAZ/sahuarita/3815rd.txt\", sep = \",\")\n",
    "sahuarita16 = read.table(\"Data/UAZ/sahuarita/3816rd.txt\", sep = \",\")\n",
    "sahuarita17 = read.table(\"Data/UAZ/sahuarita/3817rd.txt\", sep = \",\")\n",
    "sahuarita18 = read.table(\"Data/UAZ/sahuarita/3818rd.txt\", sep = \",\")\n",
    "sahuarita19 = read.table(\"Data/UAZ/sahuarita/3819rd.txt\", sep = \",\")\n",
    "sahuarita20 = read.table(\"Data/UAZ/sahuarita/3820rd.txt\", sep = \",\")\n",
    "sahuarita21 = read.table(\"Data/UAZ/sahuarita/3821rd.txt\", sep = \",\")\n",
    "\n",
    "sahuarita = bind_rows(sahuarita13,sahuarita14,sahuarita15,sahuarita16,sahuarita17,sahuarita18,sahuarita19,\n",
    "                      sahuarita20,sahuarita21)\n",
    "\n",
    "sahuarita = sahuarita[X]\n",
    "colnames(sahuarita) = headers\n",
    "sahuarita = sahuarita %>% filter(Year>=2013&Precipitation!=999&ETo!=999) %>% mutate(Accumulation = Precipitation-ETo)\n",
    "sahuarita_ann = sahuarita %>% group_by(Year) %>% summarise(Precipitation = sum(Precipitation), ETo = sum(ETo))"
   ]
  },
  {
   "cell_type": "code",
   "execution_count": 7,
   "metadata": {},
   "outputs": [
    {
     "name": "stderr",
     "output_type": "stream",
     "text": [
      "`summarise()` ungrouping output (override with `.groups` argument)\n"
     ]
    }
   ],
   "source": [
    "sansimon11 = read.table(\"Data/UAZ/san-simon/3711rd.txt\", sep = \",\")\n",
    "sansimon12 = read.table(\"Data/UAZ/san-simon/3712rd.txt\", sep = \",\")\n",
    "sansimon13 = read.table(\"Data/UAZ/san-simon/3713rd.txt\", sep = \",\")\n",
    "sansimon14 = read.table(\"Data/UAZ/san-simon/3714rd.txt\", sep = \",\")\n",
    "sansimon15 = read.table(\"Data/UAZ/san-simon/3715rd.txt\", sep = \",\")\n",
    "sansimon16 = read.table(\"Data/UAZ/san-simon/3716rd.txt\", sep = \",\")\n",
    "sansimon17 = read.table(\"Data/UAZ/san-simon/3717rd.txt\", sep = \",\")\n",
    "sansimon18 = read.table(\"Data/UAZ/san-simon/3718rd.txt\", sep = \",\")\n",
    "sansimon19 = read.table(\"Data/UAZ/san-simon/3719rd.txt\", sep = \",\")\n",
    "sansimon20 = read.table(\"Data/UAZ/san-simon/3720rd.txt\", sep = \",\")\n",
    "sansimon21 = read.table(\"Data/UAZ/san-simon/3721rd.txt\", sep = \",\")\n",
    "\n",
    "sansimon = bind_rows(sansimon11,sansimon12,sansimon13,sansimon14,sansimon15,sansimon16,sansimon17,sansimon18,\n",
    "                     sansimon19,sansimon20,sansimon21)\n",
    "\n",
    "sansimon = sansimon[X]\n",
    "colnames(sansimon) = headers\n",
    "sansimon = sansimon %>% filter(Year>=2011&Precipitation!=999&ETo!=999) %>% mutate(Accumulation = Precipitation-ETo)\n",
    "sansimon_ann = sansimon %>% group_by(Year) %>% summarise(Precipitation = sum(Precipitation), ETo = sum(ETo))"
   ]
  },
  {
   "cell_type": "code",
   "execution_count": 8,
   "metadata": {},
   "outputs": [
    {
     "name": "stderr",
     "output_type": "stream",
     "text": [
      "`summarise()` ungrouping output (override with `.groups` argument)\n"
     ]
    }
   ],
   "source": [
    "yuma09 = read.table(\"Data/UAZ/yuma-south/3609rd.txt\", sep = \",\")\n",
    "yuma10 = read.table(\"Data/UAZ/yuma-south/3610rd.txt\", sep = \",\")\n",
    "yuma11 = read.table(\"Data/UAZ/yuma-south/3611rd.txt\", sep = \",\")\n",
    "yuma12 = read.table(\"Data/UAZ/yuma-south/3612rd.txt\", sep = \",\")\n",
    "yuma13 = read.table(\"Data/UAZ/yuma-south/3613rd.txt\", sep = \",\")\n",
    "yuma14 = read.table(\"Data/UAZ/yuma-south/3614rd.txt\", sep = \",\")\n",
    "yuma15 = read.table(\"Data/UAZ/yuma-south/3615rd.txt\", sep = \",\")\n",
    "yuma16 = read.table(\"Data/UAZ/yuma-south/3616rd.txt\", sep = \",\")\n",
    "yuma17 = read.table(\"Data/UAZ/yuma-south/3617rd.txt\", sep = \",\")\n",
    "yuma18 = read.table(\"Data/UAZ/yuma-south/3618rd.txt\", sep = \",\")\n",
    "yuma19 = read.table(\"Data/UAZ/yuma-south/3619rd.txt\", sep = \",\")\n",
    "yuma20 = read.table(\"Data/UAZ/yuma-south/3620rd.txt\", sep = \",\")\n",
    "yuma21 = read.table(\"Data/UAZ/yuma-south/3621rd.txt\", sep = \",\")\n",
    "\n",
    "yuma = bind_rows(yuma09,yuma10,yuma11,yuma12,yuma13,yuma14,yuma15,yuma16,yuma17,yuma18,yuma19,yuma20,yuma21)\n",
    "\n",
    "yuma = yuma[X]\n",
    "colnames(yuma) = headers\n",
    "yuma = yuma %>% filter(Year>=2009&Precipitation!=999&ETo!=999) %>% mutate(Accumulation = Precipitation-ETo)\n",
    "yuma_ann = yuma %>% group_by(Year) %>% summarise(Precipitation = sum(Precipitation), ETo = sum(ETo))"
   ]
  },
  {
   "cell_type": "code",
   "execution_count": 14,
   "metadata": {},
   "outputs": [
    {
     "data": {
      "image/png": "[encoded data removed]",
      "text/plain": [
       "Plot with title \"\""
      ]
     },
     "metadata": {},
     "output_type": "display_data"
    }
   ],
   "source": [
    "precip = sahuarita_ann[,1:2]\n",
    "precip = precip %>% left_join(yuma_ann[,1:2],by='Year') %>% left_join(sansimon_ann[,1:2],by='Year') %>% \n",
    "    left_join(phoenix_ann[,1:2],by='Year') %>% left_join(aguila_ann[,1:2],by='Year') %>% left_join(payson_ann[,1:2],by='Year')\n",
    "\n",
    "names(precip) = c('Year','Sahuarita','Yuma South','San Simon','Phoenix','Aguila','Payson')\n",
    "corrplot(cor(precip))\n",
    " "
   ]
  },
  {
   "cell_type": "code",
   "execution_count": 15,
   "metadata": {},
   "outputs": [
    {
     "data": {
      "text/html": [
       "<table>\n",
       "<thead><tr><th></th><th scope=col>Year</th><th scope=col>Sahuarita</th><th scope=col>Yuma South</th><th scope=col>San Simon</th><th scope=col>Phoenix</th><th scope=col>Aguila</th><th scope=col>Payson</th></tr></thead>\n",
       "<tbody>\n",
       "\t<tr><th scope=row>Year</th><td> 1.0000000 </td><td>-0.2805869 </td><td>-0.16121404</td><td>-0.52448851</td><td>-0.66350920</td><td>-0.42778560</td><td>-0.6576766 </td></tr>\n",
       "\t<tr><th scope=row>Sahuarita</th><td>-0.2805869 </td><td> 1.0000000 </td><td> 0.18936821</td><td> 0.86742245</td><td> 0.46150516</td><td> 0.53799327</td><td> 0.4589403 </td></tr>\n",
       "\t<tr><th scope=row>Yuma South</th><td>-0.1612140 </td><td> 0.1893682 </td><td> 1.00000000</td><td> 0.08389006</td><td>-0.09143573</td><td> 0.02130607</td><td> 0.3031846 </td></tr>\n",
       "\t<tr><th scope=row>San Simon</th><td>-0.5244885 </td><td> 0.8674224 </td><td> 0.08389006</td><td> 1.00000000</td><td> 0.71070785</td><td> 0.62100986</td><td> 0.4832203 </td></tr>\n",
       "\t<tr><th scope=row>Phoenix</th><td>-0.6635092 </td><td> 0.4615052 </td><td>-0.09143573</td><td> 0.71070785</td><td> 1.00000000</td><td> 0.91124009</td><td> 0.7274229 </td></tr>\n",
       "\t<tr><th scope=row>Aguila</th><td>-0.4277856 </td><td> 0.5379933 </td><td> 0.02130607</td><td> 0.62100986</td><td> 0.91124009</td><td> 1.00000000</td><td> 0.7657318 </td></tr>\n",
       "\t<tr><th scope=row>Payson</th><td>-0.6576766 </td><td> 0.4589403 </td><td> 0.30318459</td><td> 0.48322034</td><td> 0.72742287</td><td> 0.76573177</td><td> 1.0000000 </td></tr>\n",
       "</tbody>\n",
       "</table>\n"
      ],
      "text/latex": [
       "\\begin{tabular}{r|lllllll}\n",
       "  & Year & Sahuarita & Yuma South & San Simon & Phoenix & Aguila & Payson\\\\\n",
       "\\hline\n",
       "\tYear &  1.0000000  & -0.2805869  & -0.16121404 & -0.52448851 & -0.66350920 & -0.42778560 & -0.6576766 \\\\\n",
       "\tSahuarita & -0.2805869  &  1.0000000  &  0.18936821 &  0.86742245 &  0.46150516 &  0.53799327 &  0.4589403 \\\\\n",
       "\tYuma South & -0.1612140  &  0.1893682  &  1.00000000 &  0.08389006 & -0.09143573 &  0.02130607 &  0.3031846 \\\\\n",
       "\tSan Simon & -0.5244885  &  0.8674224  &  0.08389006 &  1.00000000 &  0.71070785 &  0.62100986 &  0.4832203 \\\\\n",
       "\tPhoenix & -0.6635092  &  0.4615052  & -0.09143573 &  0.71070785 &  1.00000000 &  0.91124009 &  0.7274229 \\\\\n",
       "\tAguila & -0.4277856  &  0.5379933  &  0.02130607 &  0.62100986 &  0.91124009 &  1.00000000 &  0.7657318 \\\\\n",
       "\tPayson & -0.6576766  &  0.4589403  &  0.30318459 &  0.48322034 &  0.72742287 &  0.76573177 &  1.0000000 \\\\\n",
       "\\end{tabular}\n"
      ],
      "text/markdown": [
       "\n",
       "| <!--/--> | Year | Sahuarita | Yuma South | San Simon | Phoenix | Aguila | Payson |\n",
       "|---|---|---|---|---|---|---|---|\n",
       "| Year |  1.0000000  | -0.2805869  | -0.16121404 | -0.52448851 | -0.66350920 | -0.42778560 | -0.6576766  |\n",
       "| Sahuarita | -0.2805869  |  1.0000000  |  0.18936821 |  0.86742245 |  0.46150516 |  0.53799327 |  0.4589403  |\n",
       "| Yuma South | -0.1612140  |  0.1893682  |  1.00000000 |  0.08389006 | -0.09143573 |  0.02130607 |  0.3031846  |\n",
       "| San Simon | -0.5244885  |  0.8674224  |  0.08389006 |  1.00000000 |  0.71070785 |  0.62100986 |  0.4832203  |\n",
       "| Phoenix | -0.6635092  |  0.4615052  | -0.09143573 |  0.71070785 |  1.00000000 |  0.91124009 |  0.7274229  |\n",
       "| Aguila | -0.4277856  |  0.5379933  |  0.02130607 |  0.62100986 |  0.91124009 |  1.00000000 |  0.7657318  |\n",
       "| Payson | -0.6576766  |  0.4589403  |  0.30318459 |  0.48322034 |  0.72742287 |  0.76573177 |  1.0000000  |\n",
       "\n"
      ],
      "text/plain": [
       "           Year       Sahuarita  Yuma South  San Simon   Phoenix    \n",
       "Year        1.0000000 -0.2805869 -0.16121404 -0.52448851 -0.66350920\n",
       "Sahuarita  -0.2805869  1.0000000  0.18936821  0.86742245  0.46150516\n",
       "Yuma South -0.1612140  0.1893682  1.00000000  0.08389006 -0.09143573\n",
       "San Simon  -0.5244885  0.8674224  0.08389006  1.00000000  0.71070785\n",
       "Phoenix    -0.6635092  0.4615052 -0.09143573  0.71070785  1.00000000\n",
       "Aguila     -0.4277856  0.5379933  0.02130607  0.62100986  0.91124009\n",
       "Payson     -0.6576766  0.4589403  0.30318459  0.48322034  0.72742287\n",
       "           Aguila      Payson    \n",
       "Year       -0.42778560 -0.6576766\n",
       "Sahuarita   0.53799327  0.4589403\n",
       "Yuma South  0.02130607  0.3031846\n",
       "San Simon   0.62100986  0.4832203\n",
       "Phoenix     0.91124009  0.7274229\n",
       "Aguila      1.00000000  0.7657318\n",
       "Payson      0.76573177  1.0000000"
      ]
     },
     "metadata": {},
     "output_type": "display_data"
    }
   ],
   "source": [
    "cor(precip)"
   ]
  }
 ],
 "metadata": {
  "kernelspec": {
   "display_name": "R",
   "language": "R",
   "name": "ir"
  },
  "language_info": {
   "codemirror_mode": "r",
   "file_extension": ".r",
   "mimetype": "text/x-r-source",
   "name": "R",
   "pygments_lexer": "r",
   "version": "3.6.1"
  }
 },
 "nbformat": 4,
 "nbformat_minor": 4
}
