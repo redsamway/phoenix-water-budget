{
 "cells": [
  {
   "cell_type": "code",
   "execution_count": 1,
   "metadata": {},
   "outputs": [
    {
     "name": "stderr",
     "output_type": "stream",
     "text": [
      "Warning message:\n",
      "\"package 'dplyr' was built under R version 3.6.3\"\n",
      "Attaching package: 'dplyr'\n",
      "\n",
      "The following objects are masked from 'package:stats':\n",
      "\n",
      "    filter, lag\n",
      "\n",
      "The following objects are masked from 'package:base':\n",
      "\n",
      "    intersect, setdiff, setequal, union\n",
      "\n",
      "Registered S3 method overwritten by 'rvest':\n",
      "  method            from\n",
      "  read_xml.response xml2\n",
      "-- Attaching packages ------------------------------------------------------------------------------- tidyverse 1.2.1 --\n",
      "v ggplot2 3.3.3     v readr   1.3.1\n",
      "v tibble  3.0.4     v purrr   0.3.2\n",
      "v tidyr   1.1.3     v stringr 1.4.0\n",
      "v ggplot2 3.3.3     v forcats 0.4.0\n",
      "Warning message:\n",
      "\"package 'ggplot2' was built under R version 3.6.3\"Warning message:\n",
      "\"package 'tibble' was built under R version 3.6.3\"Warning message:\n",
      "\"package 'tidyr' was built under R version 3.6.3\"-- Conflicts ---------------------------------------------------------------------------------- tidyverse_conflicts() --\n",
      "x dplyr::filter() masks stats::filter()\n",
      "x dplyr::lag()    masks stats::lag()\n",
      "Warning message:\n",
      "\"package 'glmnet' was built under R version 3.6.3\"Loading required package: Matrix\n",
      "\n",
      "Attaching package: 'Matrix'\n",
      "\n",
      "The following objects are masked from 'package:tidyr':\n",
      "\n",
      "    expand, pack, unpack\n",
      "\n",
      "Loaded glmnet 4.1-1\n",
      "Warning message:\n",
      "\"package 'corrplot' was built under R version 3.6.3\"corrplot 0.84 loaded\n"
     ]
    }
   ],
   "source": [
    "library(dplyr)\n",
    "library(tidyverse)\n",
    "library(ggplot2)\n",
    "library(glmnet)\n",
    "library(corrplot)"
   ]
  },
  {
   "cell_type": "code",
   "execution_count": 2,
   "metadata": {},
   "outputs": [
    {
     "data": {
      "text/html": [
       "<table>\n",
       "<thead><tr><th scope=col>DATE</th><th scope=col>PRCP</th><th scope=col>SNOW</th></tr></thead>\n",
       "<tbody>\n",
       "\t<tr><td>1933-07-01</td><td>0         </td><td>0         </td></tr>\n",
       "\t<tr><td>1933-07-02</td><td>0         </td><td>0         </td></tr>\n",
       "\t<tr><td>1933-07-03</td><td>0         </td><td>0         </td></tr>\n",
       "\t<tr><td>1933-07-04</td><td>0         </td><td>0         </td></tr>\n",
       "\t<tr><td>1933-07-05</td><td>0         </td><td>0         </td></tr>\n",
       "\t<tr><td>1933-07-06</td><td>0         </td><td>0         </td></tr>\n",
       "</tbody>\n",
       "</table>\n"
      ],
      "text/latex": [
       "\\begin{tabular}{r|lll}\n",
       " DATE & PRCP & SNOW\\\\\n",
       "\\hline\n",
       "\t 1933-07-01 & 0          & 0         \\\\\n",
       "\t 1933-07-02 & 0          & 0         \\\\\n",
       "\t 1933-07-03 & 0          & 0         \\\\\n",
       "\t 1933-07-04 & 0          & 0         \\\\\n",
       "\t 1933-07-05 & 0          & 0         \\\\\n",
       "\t 1933-07-06 & 0          & 0         \\\\\n",
       "\\end{tabular}\n"
      ],
      "text/markdown": [
       "\n",
       "| DATE | PRCP | SNOW |\n",
       "|---|---|---|\n",
       "| 1933-07-01 | 0          | 0          |\n",
       "| 1933-07-02 | 0          | 0          |\n",
       "| 1933-07-03 | 0          | 0          |\n",
       "| 1933-07-04 | 0          | 0          |\n",
       "| 1933-07-05 | 0          | 0          |\n",
       "| 1933-07-06 | 0          | 0          |\n",
       "\n"
      ],
      "text/plain": [
       "  DATE       PRCP SNOW\n",
       "1 1933-07-01 0    0   \n",
       "2 1933-07-02 0    0   \n",
       "3 1933-07-03 0    0   \n",
       "4 1933-07-04 0    0   \n",
       "5 1933-07-05 0    0   \n",
       "6 1933-07-06 0    0   "
      ]
     },
     "metadata": {},
     "output_type": "display_data"
    }
   ],
   "source": [
    "data = read.csv(\"Data/precip-summaries.csv\")\n",
    "x = c('DATE','PRCP','SNOW')\n",
    "df = data[x] %>% drop_na(.)\n",
    "df$DATE = as.Date(df$DATE, format = \"%Y-%m-%d\")\n",
    "head(df)"
   ]
  },
  {
   "cell_type": "code",
   "execution_count": 3,
   "metadata": {},
   "outputs": [
    {
     "data": {
      "text/plain": [
       "\n",
       "Call:\n",
       "lm(formula = PRCP ~ DATE, data = df)\n",
       "\n",
       "Residuals:\n",
       "   Min     1Q Median     3Q    Max \n",
       " -5.94  -5.43  -5.19  -4.96 688.10 \n",
       "\n",
       "Coefficients:\n",
       "             Estimate Std. Error t value Pr(>|t|)    \n",
       "(Intercept) 5.176e+00  1.980e-01  26.140   <2e-16 ***\n",
       "DATE        4.104e-05  2.906e-05   1.412    0.158    \n",
       "---\n",
       "Signif. codes:  0 '***' 0.001 '**' 0.01 '*' 0.05 '.' 0.1 ' ' 1\n",
       "\n",
       "Residual standard error: 27.37 on 20415 degrees of freedom\n",
       "Multiple R-squared:  9.766e-05,\tAdjusted R-squared:  4.868e-05 \n",
       "F-statistic: 1.994 on 1 and 20415 DF,  p-value: 0.158\n"
      ]
     },
     "metadata": {},
     "output_type": "display_data"
    }
   ],
   "source": [
    "fit = lm(PRCP ~ DATE, data = df)\n",
    "summary(fit)"
   ]
  },
  {
   "cell_type": "code",
   "execution_count": 4,
   "metadata": {},
   "outputs": [
    {
     "name": "stderr",
     "output_type": "stream",
     "text": [
      "`summarise()` ungrouping output (override with `.groups` argument)\n"
     ]
    },
    {
     "data": {
      "text/html": [
       "<table>\n",
       "<thead><tr><th scope=col>YEAR</th><th scope=col>YRLY_PRCP</th></tr></thead>\n",
       "<tbody>\n",
       "\t<tr><td>1933</td><td>  92</td></tr>\n",
       "\t<tr><td>1934</td><td>  15</td></tr>\n",
       "\t<tr><td>1937</td><td> 137</td></tr>\n",
       "\t<tr><td>1938</td><td> 302</td></tr>\n",
       "\t<tr><td>1939</td><td> 219</td></tr>\n",
       "\t<tr><td>1940</td><td>1938</td></tr>\n",
       "</tbody>\n",
       "</table>\n"
      ],
      "text/latex": [
       "\\begin{tabular}{r|ll}\n",
       " YEAR & YRLY\\_PRCP\\\\\n",
       "\\hline\n",
       "\t 1933 &   92\\\\\n",
       "\t 1934 &   15\\\\\n",
       "\t 1937 &  137\\\\\n",
       "\t 1938 &  302\\\\\n",
       "\t 1939 &  219\\\\\n",
       "\t 1940 & 1938\\\\\n",
       "\\end{tabular}\n"
      ],
      "text/markdown": [
       "\n",
       "| YEAR | YRLY_PRCP |\n",
       "|---|---|\n",
       "| 1933 |   92 |\n",
       "| 1934 |   15 |\n",
       "| 1937 |  137 |\n",
       "| 1938 |  302 |\n",
       "| 1939 |  219 |\n",
       "| 1940 | 1938 |\n",
       "\n"
      ],
      "text/plain": [
       "  YEAR YRLY_PRCP\n",
       "1 1933   92     \n",
       "2 1934   15     \n",
       "3 1937  137     \n",
       "4 1938  302     \n",
       "5 1939  219     \n",
       "6 1940 1938     "
      ]
     },
     "metadata": {},
     "output_type": "display_data"
    }
   ],
   "source": [
    "df2 = df %>% mutate(YEAR = as.numeric(format(df$DATE, format=\"%Y\"))) %>% group_by(YEAR) %>% summarise(YRLY_PRCP = sum(PRCP))\n",
    "head(df2)\n"
   ]
  },
  {
   "cell_type": "code",
   "execution_count": 5,
   "metadata": {},
   "outputs": [
    {
     "name": "stderr",
     "output_type": "stream",
     "text": [
      "Saving 6.67 x 6.67 in image\n",
      "`geom_smooth()` using formula 'y ~ x'\n"
     ]
    }
   ],
   "source": [
    "plot1 = df2 %>% ggplot(aes(x = YEAR, y = YRLY_PRCP)) + geom_line() + geom_smooth(method = \"lm\") +\n",
    "    xlab(\"Year\") + ylab(\"Annual Precipitation Accumulation (mm)\") + ylim(0, 4000)\n",
    "ggsave(\"plot1.png\")"
   ]
  },
  {
   "cell_type": "code",
   "execution_count": 6,
   "metadata": {},
   "outputs": [
    {
     "name": "stderr",
     "output_type": "stream",
     "text": [
      "Saving 6.67 x 6.67 in image\n",
      "`geom_smooth()` using formula 'y ~ x'\n"
     ]
    }
   ],
   "source": [
    "plot2 = df2 %>% filter(YEAR >= 1980) %>% ggplot(aes(x = YEAR, y = YRLY_PRCP)) + geom_line() + geom_smooth(method = \"lm\") +\n",
    "    xlab(\"Year\") + ylab(\"Annual Precipitation Accumulation (mm)\")\n",
    "ggsave(\"plot2.png\")"
   ]
  },
  {
   "cell_type": "code",
   "execution_count": 7,
   "metadata": {},
   "outputs": [
    {
     "data": {
      "image/png": "[encoded data removed]",
      "text/plain": [
       "plot without title"
      ]
     },
     "metadata": {},
     "output_type": "display_data"
    }
   ],
   "source": [
    "df2 %>% ggplot(aes(YRLY_PRCP)) + geom_density(color=\"darkblue\", fill=\"lightblue\") +\n",
    "    xlab(\"Annual Precipitation Accumulation (mm)\")"
   ]
  },
  {
   "cell_type": "code",
   "execution_count": 17,
   "metadata": {},
   "outputs": [
    {
     "data": {
      "text/html": [
       "<table>\n",
       "<thead><tr><th scope=col>Year</th><th scope=col>Temp</th><th scope=col>CO2</th><th scope=col>CH4</th><th scope=col>sunspot</th><th scope=col>volcanic</th></tr></thead>\n",
       "<tbody>\n",
       "\t<tr><td>1880    </td><td>-0.225  </td><td>290.7   </td><td>908     </td><td>32.24167</td><td>0.0000  </td></tr>\n",
       "\t<tr><td>1881    </td><td>-0.204  </td><td>291.2   </td><td>909     </td><td>54.30833</td><td>0.0000  </td></tr>\n",
       "\t<tr><td>1882    </td><td>-0.212  </td><td>291.7   </td><td>910     </td><td>59.60833</td><td>0.0000  </td></tr>\n",
       "\t<tr><td>1883    </td><td>-0.290  </td><td>292.1   </td><td>911     </td><td>63.63333</td><td>0.0572  </td></tr>\n",
       "\t<tr><td>1884    </td><td>-0.403  </td><td>292.6   </td><td>913     </td><td>63.50833</td><td>0.0897  </td></tr>\n",
       "\t<tr><td>1885    </td><td>-0.385  </td><td>293.0   </td><td>914     </td><td>51.95833</td><td>0.0138  </td></tr>\n",
       "</tbody>\n",
       "</table>\n"
      ],
      "text/latex": [
       "\\begin{tabular}{r|llllll}\n",
       " Year & Temp & CO2 & CH4 & sunspot & volcanic\\\\\n",
       "\\hline\n",
       "\t 1880     & -0.225   & 290.7    & 908      & 32.24167 & 0.0000  \\\\\n",
       "\t 1881     & -0.204   & 291.2    & 909      & 54.30833 & 0.0000  \\\\\n",
       "\t 1882     & -0.212   & 291.7    & 910      & 59.60833 & 0.0000  \\\\\n",
       "\t 1883     & -0.290   & 292.1    & 911      & 63.63333 & 0.0572  \\\\\n",
       "\t 1884     & -0.403   & 292.6    & 913      & 63.50833 & 0.0897  \\\\\n",
       "\t 1885     & -0.385   & 293.0    & 914      & 51.95833 & 0.0138  \\\\\n",
       "\\end{tabular}\n"
      ],
      "text/markdown": [
       "\n",
       "| Year | Temp | CO2 | CH4 | sunspot | volcanic |\n",
       "|---|---|---|---|---|---|\n",
       "| 1880     | -0.225   | 290.7    | 908      | 32.24167 | 0.0000   |\n",
       "| 1881     | -0.204   | 291.2    | 909      | 54.30833 | 0.0000   |\n",
       "| 1882     | -0.212   | 291.7    | 910      | 59.60833 | 0.0000   |\n",
       "| 1883     | -0.290   | 292.1    | 911      | 63.63333 | 0.0572   |\n",
       "| 1884     | -0.403   | 292.6    | 913      | 63.50833 | 0.0897   |\n",
       "| 1885     | -0.385   | 293.0    | 914      | 51.95833 | 0.0138   |\n",
       "\n"
      ],
      "text/plain": [
       "  Year Temp   CO2   CH4 sunspot  volcanic\n",
       "1 1880 -0.225 290.7 908 32.24167 0.0000  \n",
       "2 1881 -0.204 291.2 909 54.30833 0.0000  \n",
       "3 1882 -0.212 291.7 910 59.60833 0.0000  \n",
       "4 1883 -0.290 292.1 911 63.63333 0.0572  \n",
       "5 1884 -0.403 292.6 913 63.50833 0.0897  \n",
       "6 1885 -0.385 293.0 914 51.95833 0.0138  "
      ]
     },
     "metadata": {},
     "output_type": "display_data"
    }
   ],
   "source": [
    "glob = read.csv(\"Data/glob.csv\")\n",
    "head(glob)"
   ]
  },
  {
   "cell_type": "code",
   "execution_count": 18,
   "metadata": {},
   "outputs": [
    {
     "data": {
      "text/html": [
       "<table>\n",
       "<thead><tr><th scope=col>YEAR</th><th scope=col>YRLY_PRCP</th><th scope=col>Temp</th><th scope=col>CO2</th><th scope=col>CH4</th><th scope=col>sunspot</th><th scope=col>volcanic</th></tr></thead>\n",
       "<tbody>\n",
       "\t<tr><td>1933      </td><td>  92      </td><td>-0.274    </td><td>308.6     </td><td>1102      </td><td>  5.658333</td><td>0.0025    </td></tr>\n",
       "\t<tr><td>1934      </td><td>  15      </td><td>-0.130    </td><td>309.0     </td><td>1107      </td><td>  8.716667</td><td>0.0028    </td></tr>\n",
       "\t<tr><td>1937      </td><td> 137      </td><td>-0.028    </td><td>310.0     </td><td>1133      </td><td>114.400000</td><td>0.0335    </td></tr>\n",
       "\t<tr><td>1938      </td><td> 302      </td><td>-0.006    </td><td>310.2     </td><td>1137      </td><td>109.550000</td><td>0.0043    </td></tr>\n",
       "\t<tr><td>1939      </td><td> 219      </td><td>-0.056    </td><td>310.3     </td><td>1140      </td><td> 88.750000</td><td>0.0054    </td></tr>\n",
       "\t<tr><td>1940      </td><td>1938      </td><td> 0.017    </td><td>310.4     </td><td>1144      </td><td> 67.783333</td><td>0.0004    </td></tr>\n",
       "</tbody>\n",
       "</table>\n"
      ],
      "text/latex": [
       "\\begin{tabular}{r|lllllll}\n",
       " YEAR & YRLY\\_PRCP & Temp & CO2 & CH4 & sunspot & volcanic\\\\\n",
       "\\hline\n",
       "\t 1933       &   92       & -0.274     & 308.6      & 1102       &   5.658333 & 0.0025    \\\\\n",
       "\t 1934       &   15       & -0.130     & 309.0      & 1107       &   8.716667 & 0.0028    \\\\\n",
       "\t 1937       &  137       & -0.028     & 310.0      & 1133       & 114.400000 & 0.0335    \\\\\n",
       "\t 1938       &  302       & -0.006     & 310.2      & 1137       & 109.550000 & 0.0043    \\\\\n",
       "\t 1939       &  219       & -0.056     & 310.3      & 1140       &  88.750000 & 0.0054    \\\\\n",
       "\t 1940       & 1938       &  0.017     & 310.4      & 1144       &  67.783333 & 0.0004    \\\\\n",
       "\\end{tabular}\n"
      ],
      "text/markdown": [
       "\n",
       "| YEAR | YRLY_PRCP | Temp | CO2 | CH4 | sunspot | volcanic |\n",
       "|---|---|---|---|---|---|---|\n",
       "| 1933       |   92       | -0.274     | 308.6      | 1102       |   5.658333 | 0.0025     |\n",
       "| 1934       |   15       | -0.130     | 309.0      | 1107       |   8.716667 | 0.0028     |\n",
       "| 1937       |  137       | -0.028     | 310.0      | 1133       | 114.400000 | 0.0335     |\n",
       "| 1938       |  302       | -0.006     | 310.2      | 1137       | 109.550000 | 0.0043     |\n",
       "| 1939       |  219       | -0.056     | 310.3      | 1140       |  88.750000 | 0.0054     |\n",
       "| 1940       | 1938       |  0.017     | 310.4      | 1144       |  67.783333 | 0.0004     |\n",
       "\n"
      ],
      "text/plain": [
       "  YEAR YRLY_PRCP Temp   CO2   CH4  sunspot    volcanic\n",
       "1 1933   92      -0.274 308.6 1102   5.658333 0.0025  \n",
       "2 1934   15      -0.130 309.0 1107   8.716667 0.0028  \n",
       "3 1937  137      -0.028 310.0 1133 114.400000 0.0335  \n",
       "4 1938  302      -0.006 310.2 1137 109.550000 0.0043  \n",
       "5 1939  219      -0.056 310.3 1140  88.750000 0.0054  \n",
       "6 1940 1938       0.017 310.4 1144  67.783333 0.0004  "
      ]
     },
     "metadata": {},
     "output_type": "display_data"
    }
   ],
   "source": [
    "df3 = inner_join(df2, glob, by = c(\"YEAR\"=\"Year\"))\n",
    "head(df3)"
   ]
  },
  {
   "cell_type": "code",
   "execution_count": 22,
   "metadata": {},
   "outputs": [
    {
     "data": {
      "image/png": "[encoded data removed]",
      "text/plain": [
       "Plot with title \"\""
      ]
     },
     "metadata": {},
     "output_type": "display_data"
    }
   ],
   "source": [
    "corrplot(cor(df3))"
   ]
  },
  {
   "cell_type": "code",
   "execution_count": 52,
   "metadata": {},
   "outputs": [
    {
     "data": {
      "text/plain": [
       "\n",
       "Call:\n",
       "lm(formula = YRLY_PRCP ~ YEAR + Temp + CO2 + CH4 + sunspot + \n",
       "    volcanic, data = df3)\n",
       "\n",
       "Residuals:\n",
       "    Min      1Q  Median      3Q     Max \n",
       "-1128.9  -566.0  -124.9   379.0  1841.8 \n",
       "\n",
       "Coefficients:\n",
       "              Estimate Std. Error t value Pr(>|t|)    \n",
       "(Intercept) -7.428e+04  5.009e+04  -1.483 0.143892    \n",
       "YEAR         4.691e+01  2.728e+01   1.720 0.091216 .  \n",
       "Temp         2.351e+02  8.633e+02   0.272 0.786397    \n",
       "CO2         -6.314e+01  1.969e+01  -3.206 0.002262 ** \n",
       "CH4          2.876e+00  2.555e+00   1.126 0.265284    \n",
       "sunspot      7.691e-01  1.774e+00   0.434 0.666320    \n",
       "volcanic     1.500e+04  3.943e+03   3.805 0.000364 ***\n",
       "---\n",
       "Signif. codes:  0 '***' 0.001 '**' 0.01 '*' 0.05 '.' 0.1 ' ' 1\n",
       "\n",
       "Residual standard error: 700.2 on 54 degrees of freedom\n",
       "Multiple R-squared:  0.4984,\tAdjusted R-squared:  0.4427 \n",
       "F-statistic: 8.944 on 6 and 54 DF,  p-value: 8.784e-07\n"
      ]
     },
     "metadata": {},
     "output_type": "display_data"
    }
   ],
   "source": [
    "clim_mod = lm(YRLY_PRCP ~ YEAR + Temp + CO2 + CH4 + sunspot + volcanic, data = df3)\n",
    "summary(clim_mod)"
   ]
  },
  {
   "cell_type": "code",
   "execution_count": 34,
   "metadata": {},
   "outputs": [
    {
     "data": {
      "image/png": "[encoded data removed]",
      "text/plain": [
       "Plot with title \"\""
      ]
     },
     "metadata": {},
     "output_type": "display_data"
    }
   ],
   "source": [
    "df4 = df3 %>% filter(YEAR>=1980)\n",
    "corrplot(cor(df4))"
   ]
  },
  {
   "cell_type": "code",
   "execution_count": 53,
   "metadata": {},
   "outputs": [
    {
     "data": {
      "text/plain": [
       "\n",
       "Call:\n",
       "lm(formula = YRLY_PRCP ~ YEAR + Temp + CO2 + CH4 + sunspot + \n",
       "    volcanic, data = df4)\n",
       "\n",
       "Residuals:\n",
       "   Min     1Q Median     3Q    Max \n",
       "-860.4 -328.3 -143.9  217.6 1314.0 \n",
       "\n",
       "Coefficients:\n",
       "              Estimate Std. Error t value Pr(>|t|)   \n",
       "(Intercept) 253884.063 505840.042   0.502  0.62353   \n",
       "YEAR          -132.314    282.799  -0.468  0.64708   \n",
       "Temp          2299.562   1668.616   1.378  0.18979   \n",
       "CO2              4.506    137.523   0.033  0.97432   \n",
       "CH4              5.572      7.114   0.783  0.44655   \n",
       "sunspot         -5.520      3.352  -1.647  0.12181   \n",
       "volcanic     20319.029   5476.678   3.710  0.00233 **\n",
       "---\n",
       "Signif. codes:  0 '***' 0.001 '**' 0.01 '*' 0.05 '.' 0.1 ' ' 1\n",
       "\n",
       "Residual standard error: 604.1 on 14 degrees of freedom\n",
       "Multiple R-squared:  0.6657,\tAdjusted R-squared:  0.5224 \n",
       "F-statistic: 4.645 on 6 and 14 DF,  p-value: 0.008438\n"
      ]
     },
     "metadata": {},
     "output_type": "display_data"
    }
   ],
   "source": [
    "clim_mod2 = lm(YRLY_PRCP ~ YEAR + Temp + CO2 + CH4 + sunspot + volcanic, data = df4)\n",
    "summary(clim_mod2)"
   ]
  },
  {
   "cell_type": "code",
   "execution_count": 65,
   "metadata": {},
   "outputs": [
    {
     "data": {
      "text/plain": [
       "\n",
       "Call:\n",
       "lm(formula = CO2 ~ YEAR, data = df4)\n",
       "\n",
       "Residuals:\n",
       "    Min      1Q  Median      3Q     Max \n",
       "-2.0601 -1.0073  0.1554  0.7316  4.5993 \n",
       "\n",
       "Coefficients:\n",
       "              Estimate Std. Error t value Pr(>|t|)    \n",
       "(Intercept) -2.983e+03  9.042e+01  -32.99   <2e-16 ***\n",
       "YEAR         1.677e+00  4.542e-02   36.91   <2e-16 ***\n",
       "---\n",
       "Signif. codes:  0 '***' 0.001 '**' 0.01 '*' 0.05 '.' 0.1 ' ' 1\n",
       "\n",
       "Residual standard error: 1.568 on 19 degrees of freedom\n",
       "Multiple R-squared:  0.9862,\tAdjusted R-squared:  0.9855 \n",
       "F-statistic:  1362 on 1 and 19 DF,  p-value: < 2.2e-16\n"
      ]
     },
     "metadata": {},
     "output_type": "display_data"
    },
    {
     "data": {
      "text/html": [
       "<dl class=dl-horizontal>\n",
       "\t<dt>(Intercept)</dt>\n",
       "\t\t<dd>-2983.00945641743</dd>\n",
       "\t<dt>YEAR</dt>\n",
       "\t\t<dd>1.67654834066374</dd>\n",
       "</dl>\n"
      ],
      "text/latex": [
       "\\begin{description*}\n",
       "\\item[(Intercept)] -2983.00945641743\n",
       "\\item[YEAR] 1.67654834066374\n",
       "\\end{description*}\n"
      ],
      "text/markdown": [
       "(Intercept)\n",
       ":   -2983.00945641743YEAR\n",
       ":   1.67654834066374\n",
       "\n"
      ],
      "text/plain": [
       " (Intercept)         YEAR \n",
       "-2983.009456     1.676548 "
      ]
     },
     "metadata": {},
     "output_type": "display_data"
    }
   ],
   "source": [
    "co2 = lm(CO2 ~ YEAR, data = df4)\n",
    "summary(co2)\n",
    "co2$coef"
   ]
  },
  {
   "cell_type": "code",
   "execution_count": 66,
   "metadata": {},
   "outputs": [
    {
     "data": {
      "text/plain": [
       "\n",
       "Call:\n",
       "lm(formula = CH4 ~ YEAR, data = df4)\n",
       "\n",
       "Residuals:\n",
       "    Min      1Q  Median      3Q     Max \n",
       "-67.337  -0.522   8.078  17.432  26.109 \n",
       "\n",
       "Coefficients:\n",
       "              Estimate Std. Error t value Pr(>|t|)    \n",
       "(Intercept) -1.489e+04  1.608e+03  -9.257 1.80e-08 ***\n",
       "YEAR         8.338e+00  8.078e-01  10.322 3.15e-09 ***\n",
       "---\n",
       "Signif. codes:  0 '***' 0.001 '**' 0.01 '*' 0.05 '.' 0.1 ' ' 1\n",
       "\n",
       "Residual standard error: 27.88 on 19 degrees of freedom\n",
       "Multiple R-squared:  0.8487,\tAdjusted R-squared:  0.8407 \n",
       "F-statistic: 106.5 on 1 and 19 DF,  p-value: 3.152e-09\n"
      ]
     },
     "metadata": {},
     "output_type": "display_data"
    },
    {
     "data": {
      "text/html": [
       "<dl class=dl-horizontal>\n",
       "\t<dt>(Intercept)</dt>\n",
       "\t\t<dd>-14886.9922031189</dd>\n",
       "\t<dt>YEAR</dt>\n",
       "\t\t<dd>8.33846461415439</dd>\n",
       "</dl>\n"
      ],
      "text/latex": [
       "\\begin{description*}\n",
       "\\item[(Intercept)] -14886.9922031189\n",
       "\\item[YEAR] 8.33846461415439\n",
       "\\end{description*}\n"
      ],
      "text/markdown": [
       "(Intercept)\n",
       ":   -14886.9922031189YEAR\n",
       ":   8.33846461415439\n",
       "\n"
      ],
      "text/plain": [
       "  (Intercept)          YEAR \n",
       "-14886.992203      8.338465 "
      ]
     },
     "metadata": {},
     "output_type": "display_data"
    }
   ],
   "source": [
    "ch4 = lm(CH4 ~ YEAR, data = df4)\n",
    "summary(ch4)\n",
    "ch4$coef"
   ]
  },
  {
   "cell_type": "code",
   "execution_count": 67,
   "metadata": {},
   "outputs": [
    {
     "data": {
      "text/plain": [
       "\n",
       "Call:\n",
       "lm(formula = Temp ~ YEAR, data = df4)\n",
       "\n",
       "Residuals:\n",
       "     Min       1Q   Median       3Q      Max \n",
       "-0.14152 -0.08188 -0.02052  0.05727  0.22284 \n",
       "\n",
       "Coefficients:\n",
       "              Estimate Std. Error t value Pr(>|t|)    \n",
       "(Intercept) -30.371161   5.670043  -5.356 3.61e-05 ***\n",
       "YEAR          0.015357   0.002848   5.392 3.34e-05 ***\n",
       "---\n",
       "Signif. codes:  0 '***' 0.001 '**' 0.01 '*' 0.05 '.' 0.1 ' ' 1\n",
       "\n",
       "Residual standard error: 0.0983 on 19 degrees of freedom\n",
       "Multiple R-squared:  0.6047,\tAdjusted R-squared:  0.5839 \n",
       "F-statistic: 29.07 on 1 and 19 DF,  p-value: 3.341e-05\n"
      ]
     },
     "metadata": {},
     "output_type": "display_data"
    },
    {
     "data": {
      "text/html": [
       "<dl class=dl-horizontal>\n",
       "\t<dt>(Intercept)</dt>\n",
       "\t\t<dd>-30.3711614154338</dd>\n",
       "\t<dt>YEAR</dt>\n",
       "\t\t<dd>0.0153570171931228</dd>\n",
       "</dl>\n"
      ],
      "text/latex": [
       "\\begin{description*}\n",
       "\\item[(Intercept)] -30.3711614154338\n",
       "\\item[YEAR] 0.0153570171931228\n",
       "\\end{description*}\n"
      ],
      "text/markdown": [
       "(Intercept)\n",
       ":   -30.3711614154338YEAR\n",
       ":   0.0153570171931228\n",
       "\n"
      ],
      "text/plain": [
       " (Intercept)         YEAR \n",
       "-30.37116142   0.01535702 "
      ]
     },
     "metadata": {},
     "output_type": "display_data"
    }
   ],
   "source": [
    "temp = lm(Temp ~ YEAR, data = df4)\n",
    "summary(temp)\n",
    "temp$coef"
   ]
  },
  {
   "cell_type": "code",
   "execution_count": 68,
   "metadata": {},
   "outputs": [
    {
     "data": {
      "text/plain": [
       "\n",
       "Call:\n",
       "lm(formula = sunspot ~ YEAR, data = df4)\n",
       "\n",
       "Residuals:\n",
       "    Min      1Q  Median      3Q     Max \n",
       "-70.719 -42.133   3.271  34.170  79.468 \n",
       "\n",
       "Coefficients:\n",
       "            Estimate Std. Error t value Pr(>|t|)\n",
       "(Intercept) 3920.757   2926.843   1.340    0.196\n",
       "YEAR          -1.932      1.470  -1.314    0.205\n",
       "\n",
       "Residual standard error: 50.74 on 19 degrees of freedom\n",
       "Multiple R-squared:  0.08329,\tAdjusted R-squared:  0.03504 \n",
       "F-statistic: 1.726 on 1 and 19 DF,  p-value: 0.2045\n"
      ]
     },
     "metadata": {},
     "output_type": "display_data"
    },
    {
     "data": {
      "text/html": [
       "<dl class=dl-horizontal>\n",
       "\t<dt>(Intercept)</dt>\n",
       "\t\t<dd>3920.75737511404</dd>\n",
       "\t<dt>YEAR</dt>\n",
       "\t\t<dd>-1.93184193025943</dd>\n",
       "</dl>\n"
      ],
      "text/latex": [
       "\\begin{description*}\n",
       "\\item[(Intercept)] 3920.75737511404\n",
       "\\item[YEAR] -1.93184193025943\n",
       "\\end{description*}\n"
      ],
      "text/markdown": [
       "(Intercept)\n",
       ":   3920.75737511404YEAR\n",
       ":   -1.93184193025943\n",
       "\n"
      ],
      "text/plain": [
       "(Intercept)        YEAR \n",
       "3920.757375   -1.931842 "
      ]
     },
     "metadata": {},
     "output_type": "display_data"
    }
   ],
   "source": [
    "sun = lm(sunspot ~ YEAR, data = df4)\n",
    "summary(sun)\n",
    "sun$coef"
   ]
  },
  {
   "cell_type": "code",
   "execution_count": 69,
   "metadata": {},
   "outputs": [
    {
     "data": {
      "text/plain": [
       "\n",
       "Call:\n",
       "lm(formula = volcanic ~ YEAR, data = df4)\n",
       "\n",
       "Residuals:\n",
       "      Min        1Q    Median        3Q       Max \n",
       "-0.028326 -0.014910 -0.012455  0.003467  0.099552 \n",
       "\n",
       "Coefficients:\n",
       "              Estimate Std. Error t value Pr(>|t|)\n",
       "(Intercept)  1.3127317  1.7039924   0.770    0.451\n",
       "YEAR        -0.0006482  0.0008560  -0.757    0.458\n",
       "\n",
       "Residual standard error: 0.02954 on 19 degrees of freedom\n",
       "Multiple R-squared:  0.02929,\tAdjusted R-squared:  -0.0218 \n",
       "F-statistic: 0.5734 on 1 and 19 DF,  p-value: 0.4582\n"
      ]
     },
     "metadata": {},
     "output_type": "display_data"
    },
    {
     "data": {
      "text/html": [
       "<dl class=dl-horizontal>\n",
       "\t<dt>(Intercept)</dt>\n",
       "\t\t<dd>1.3127317193124</dd>\n",
       "\t<dt>YEAR</dt>\n",
       "\t\t<dd>-0.000648184726109619</dd>\n",
       "</dl>\n"
      ],
      "text/latex": [
       "\\begin{description*}\n",
       "\\item[(Intercept)] 1.3127317193124\n",
       "\\item[YEAR] -0.000648184726109619\n",
       "\\end{description*}\n"
      ],
      "text/markdown": [
       "(Intercept)\n",
       ":   1.3127317193124YEAR\n",
       ":   -0.000648184726109619\n",
       "\n"
      ],
      "text/plain": [
       "  (Intercept)          YEAR \n",
       " 1.3127317193 -0.0006481847 "
      ]
     },
     "metadata": {},
     "output_type": "display_data"
    }
   ],
   "source": [
    "volc = lm(volcanic ~ YEAR, data = df4)\n",
    "summary(volc)\n",
    "volc$coef"
   ]
  }
 ],
 "metadata": {
  "kernelspec": {
   "display_name": "R",
   "language": "R",
   "name": "ir"
  },
  "language_info": {
   "codemirror_mode": "r",
   "file_extension": ".r",
   "mimetype": "text/x-r-source",
   "name": "R",
   "pygments_lexer": "r",
   "version": "3.6.1"
  }
 },
 "nbformat": 4,
 "nbformat_minor": 4
}
