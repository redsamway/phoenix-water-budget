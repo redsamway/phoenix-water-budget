{
 "cells": [
  {
   "cell_type": "markdown",
   "metadata": {},
   "source": [
    "# ADWR Water Supply and Demand\n",
    "## 1. Trend Analysis"
   ]
  },
  {
   "cell_type": "code",
   "execution_count": 65,
   "metadata": {},
   "outputs": [
    {
     "name": "stderr",
     "output_type": "stream",
     "text": [
      "\n",
      "Attaching package: 'lubridate'\n",
      "\n",
      "The following object is masked from 'package:base':\n",
      "\n",
      "    date\n",
      "\n"
     ]
    }
   ],
   "source": [
    "library(dplyr)\n",
    "library(tidyverse)\n",
    "library(ggplot2)\n",
    "library(glmnet)\n",
    "library(corrplot)\n",
    "library(gridExtra)"
   ]
  },
  {
   "cell_type": "code",
   "execution_count": 27,
   "metadata": {},
   "outputs": [
    {
     "name": "stderr",
     "output_type": "stream",
     "text": [
      "Parsed with column specification:\n",
      "cols(\n",
      "  YEAR = col_double(),\n",
      "  AMA = col_character(),\n",
      "  SECTOR = col_character(),\n",
      "  CATEGORY = col_character(),\n",
      "  `PARENT WATER TYPE OR SECTOR` = col_character(),\n",
      "  `BUDGET ELEMENT` = col_character(),\n",
      "  QUANTITY = col_double()\n",
      ")\n"
     ]
    }
   ],
   "source": [
    "data = read_csv(\"Data/AMA Demand Supply from DW .csv\")\n",
    "demand = data %>% filter(CATEGORY == 'Demand'& AMA == 'PHOENIX AMA')\n",
    "supply = data %>% filter(CATEGORY == 'Supply'& AMA == 'PHOENIX AMA')"
   ]
  },
  {
   "cell_type": "code",
   "execution_count": 28,
   "metadata": {},
   "outputs": [
    {
     "data": {
      "text/html": [
       "<ol class=list-inline>\n",
       "\t<li>'PHOENIX AMA'</li>\n",
       "\t<li>'PINAL AMA'</li>\n",
       "\t<li>'PRESCOTT AMA'</li>\n",
       "\t<li>'SANTA CRUZ AMA'</li>\n",
       "\t<li>'TUCSON AMA'</li>\n",
       "</ol>\n"
      ],
      "text/latex": [
       "\\begin{enumerate*}\n",
       "\\item 'PHOENIX AMA'\n",
       "\\item 'PINAL AMA'\n",
       "\\item 'PRESCOTT AMA'\n",
       "\\item 'SANTA CRUZ AMA'\n",
       "\\item 'TUCSON AMA'\n",
       "\\end{enumerate*}\n"
      ],
      "text/markdown": [
       "1. 'PHOENIX AMA'\n",
       "2. 'PINAL AMA'\n",
       "3. 'PRESCOTT AMA'\n",
       "4. 'SANTA CRUZ AMA'\n",
       "5. 'TUCSON AMA'\n",
       "\n",
       "\n"
      ],
      "text/plain": [
       "[1] \"PHOENIX AMA\"    \"PINAL AMA\"      \"PRESCOTT AMA\"   \"SANTA CRUZ AMA\"\n",
       "[5] \"TUCSON AMA\"    "
      ]
     },
     "metadata": {},
     "output_type": "display_data"
    }
   ],
   "source": [
    "unique(data$AMA)"
   ]
  },
  {
   "cell_type": "code",
   "execution_count": 29,
   "metadata": {},
   "outputs": [
    {
     "data": {
      "text/html": [
       "<ol class=list-inline>\n",
       "\t<li>'Municipal'</li>\n",
       "\t<li>'Industrial'</li>\n",
       "\t<li>'Agricultural'</li>\n",
       "\t<li>'Indian'</li>\n",
       "</ol>\n"
      ],
      "text/latex": [
       "\\begin{enumerate*}\n",
       "\\item 'Municipal'\n",
       "\\item 'Industrial'\n",
       "\\item 'Agricultural'\n",
       "\\item 'Indian'\n",
       "\\end{enumerate*}\n"
      ],
      "text/markdown": [
       "1. 'Municipal'\n",
       "2. 'Industrial'\n",
       "3. 'Agricultural'\n",
       "4. 'Indian'\n",
       "\n",
       "\n"
      ],
      "text/plain": [
       "[1] \"Municipal\"    \"Industrial\"   \"Agricultural\" \"Indian\"      "
      ]
     },
     "metadata": {},
     "output_type": "display_data"
    }
   ],
   "source": [
    "unique(demand$SECTOR)"
   ]
  },
  {
   "cell_type": "code",
   "execution_count": 30,
   "metadata": {},
   "outputs": [
    {
     "data": {
      "text/html": [
       "<table>\n",
       "<thead><tr><th scope=col>YEAR</th><th scope=col>AMA</th><th scope=col>SECTOR</th><th scope=col>CATEGORY</th><th scope=col>PARENT WATER TYPE OR SECTOR</th><th scope=col>BUDGET ELEMENT</th><th scope=col>QUANTITY</th></tr></thead>\n",
       "<tbody>\n",
       "\t<tr><td>1985                                         </td><td>PHOENIX AMA                                  </td><td>Municipal                                    </td><td>Demand                                       </td><td>Municipal                                    </td><td>Large Provider Residential Deliveries        </td><td>308110                                       </td></tr>\n",
       "\t<tr><td>1985                                         </td><td>PHOENIX AMA                                  </td><td>Municipal                                    </td><td>Demand                                       </td><td>Municipal                                    </td><td>Large Provider Non-Residential Deliveries    </td><td>152321                                       </td></tr>\n",
       "\t<tr><td>1985                                         </td><td>PHOENIX AMA                                  </td><td>Municipal                                    </td><td>Demand                                       </td><td>Municipal                                    </td><td>Large Provider Lost and Unaccounted for Water</td><td> 31656                                       </td></tr>\n",
       "\t<tr><td>1985                                         </td><td>PHOENIX AMA                                  </td><td>Municipal                                    </td><td>Demand                                       </td><td>Municipal                                    </td><td>Small Provider Deliveries                    </td><td>  9177                                       </td></tr>\n",
       "\t<tr><td>1985                                         </td><td>PHOENIX AMA                                  </td><td>Municipal                                    </td><td>Demand                                       </td><td>Municipal                                    </td><td>Urban Irrigation                             </td><td>128889                                       </td></tr>\n",
       "\t<tr><td>1985                                         </td><td>PHOENIX AMA                                  </td><td>Municipal                                    </td><td>Demand                                       </td><td>Municipal                                    </td><td>Domestic Exempt Volume                       </td><td>  3349                                       </td></tr>\n",
       "</tbody>\n",
       "</table>\n"
      ],
      "text/latex": [
       "\\begin{tabular}{r|lllllll}\n",
       " YEAR & AMA & SECTOR & CATEGORY & PARENT WATER TYPE OR SECTOR & BUDGET ELEMENT & QUANTITY\\\\\n",
       "\\hline\n",
       "\t 1985                                          & PHOENIX AMA                                   & Municipal                                     & Demand                                        & Municipal                                     & Large Provider Residential Deliveries         & 308110                                       \\\\\n",
       "\t 1985                                          & PHOENIX AMA                                   & Municipal                                     & Demand                                        & Municipal                                     & Large Provider Non-Residential Deliveries     & 152321                                       \\\\\n",
       "\t 1985                                          & PHOENIX AMA                                   & Municipal                                     & Demand                                        & Municipal                                     & Large Provider Lost and Unaccounted for Water &  31656                                       \\\\\n",
       "\t 1985                                          & PHOENIX AMA                                   & Municipal                                     & Demand                                        & Municipal                                     & Small Provider Deliveries                     &   9177                                       \\\\\n",
       "\t 1985                                          & PHOENIX AMA                                   & Municipal                                     & Demand                                        & Municipal                                     & Urban Irrigation                              & 128889                                       \\\\\n",
       "\t 1985                                          & PHOENIX AMA                                   & Municipal                                     & Demand                                        & Municipal                                     & Domestic Exempt Volume                        &   3349                                       \\\\\n",
       "\\end{tabular}\n"
      ],
      "text/markdown": [
       "\n",
       "| YEAR | AMA | SECTOR | CATEGORY | PARENT WATER TYPE OR SECTOR | BUDGET ELEMENT | QUANTITY |\n",
       "|---|---|---|---|---|---|---|\n",
       "| 1985                                          | PHOENIX AMA                                   | Municipal                                     | Demand                                        | Municipal                                     | Large Provider Residential Deliveries         | 308110                                        |\n",
       "| 1985                                          | PHOENIX AMA                                   | Municipal                                     | Demand                                        | Municipal                                     | Large Provider Non-Residential Deliveries     | 152321                                        |\n",
       "| 1985                                          | PHOENIX AMA                                   | Municipal                                     | Demand                                        | Municipal                                     | Large Provider Lost and Unaccounted for Water |  31656                                        |\n",
       "| 1985                                          | PHOENIX AMA                                   | Municipal                                     | Demand                                        | Municipal                                     | Small Provider Deliveries                     |   9177                                        |\n",
       "| 1985                                          | PHOENIX AMA                                   | Municipal                                     | Demand                                        | Municipal                                     | Urban Irrigation                              | 128889                                        |\n",
       "| 1985                                          | PHOENIX AMA                                   | Municipal                                     | Demand                                        | Municipal                                     | Domestic Exempt Volume                        |   3349                                        |\n",
       "\n"
      ],
      "text/plain": [
       "  YEAR AMA         SECTOR    CATEGORY PARENT WATER TYPE OR SECTOR\n",
       "1 1985 PHOENIX AMA Municipal Demand   Municipal                  \n",
       "2 1985 PHOENIX AMA Municipal Demand   Municipal                  \n",
       "3 1985 PHOENIX AMA Municipal Demand   Municipal                  \n",
       "4 1985 PHOENIX AMA Municipal Demand   Municipal                  \n",
       "5 1985 PHOENIX AMA Municipal Demand   Municipal                  \n",
       "6 1985 PHOENIX AMA Municipal Demand   Municipal                  \n",
       "  BUDGET ELEMENT                                QUANTITY\n",
       "1 Large Provider Residential Deliveries         308110  \n",
       "2 Large Provider Non-Residential Deliveries     152321  \n",
       "3 Large Provider Lost and Unaccounted for Water  31656  \n",
       "4 Small Provider Deliveries                       9177  \n",
       "5 Urban Irrigation                              128889  \n",
       "6 Domestic Exempt Volume                          3349  "
      ]
     },
     "metadata": {},
     "output_type": "display_data"
    }
   ],
   "source": [
    "head(demand)"
   ]
  },
  {
   "cell_type": "code",
   "execution_count": 31,
   "metadata": {},
   "outputs": [
    {
     "name": "stderr",
     "output_type": "stream",
     "text": [
      "`summarise()` regrouping output by 'YEAR' (override with `.groups` argument)\n"
     ]
    }
   ],
   "source": [
    "p1 = demand %>% group_by(YEAR,SECTOR) %>% summarise(VOL_acft = sum(QUANTITY)) %>%\n",
    "    ggplot(aes(YEAR,VOL_acft,color = SECTOR)) + geom_line(size = 1) + xlab(\"Year\") + \n",
    "    ylab(\"Volume (ac-ft)\")"
   ]
  },
  {
   "cell_type": "code",
   "execution_count": 32,
   "metadata": {},
   "outputs": [
    {
     "name": "stderr",
     "output_type": "stream",
     "text": [
      "`summarise()` ungrouping output (override with `.groups` argument)\n"
     ]
    }
   ],
   "source": [
    "p2 = demand %>% group_by(YEAR) %>% summarise(VOL_acft = sum(QUANTITY)) %>%\n",
    "    ggplot(aes(YEAR,VOL_acft)) + geom_line(size = 1) + xlab(\"Year\") + \n",
    "    ylab(\"Volume (ac-ft)\") +geom_smooth(method = 'lm')"
   ]
  },
  {
   "cell_type": "code",
   "execution_count": 33,
   "metadata": {},
   "outputs": [
    {
     "name": "stderr",
     "output_type": "stream",
     "text": [
      "`summarise()` regrouping output by 'YEAR' (override with `.groups` argument)\n"
     ]
    }
   ],
   "source": [
    "p3 = data %>% filter(CATEGORY == 'Demand' & SECTOR == 'Agricultural') %>% group_by(YEAR, AMA) %>% \n",
    "    summarise(VOL_acft = sum(QUANTITY)) %>% ggplot(aes(YEAR,VOL_acft,color = AMA)) + \n",
    "    geom_line(size = 1) + xlab(\"Year\") + ylab(\"Volume (ac-ft)\")"
   ]
  },
  {
   "cell_type": "code",
   "execution_count": 34,
   "metadata": {},
   "outputs": [
    {
     "name": "stderr",
     "output_type": "stream",
     "text": [
      "`summarise()` ungrouping output (override with `.groups` argument)\n"
     ]
    }
   ],
   "source": [
    "p4 = data %>% filter(CATEGORY == 'Demand' & SECTOR == 'Agricultural') %>% group_by(YEAR) %>% \n",
    "    summarise(VOL_acft = sum(QUANTITY)) %>% ggplot(aes(YEAR,VOL_acft)) + \n",
    "    geom_line(size = 1) + xlab(\"Year\") + ylab(\"Volume (ac-ft)\")"
   ]
  },
  {
   "cell_type": "code",
   "execution_count": 84,
   "metadata": {},
   "outputs": [
    {
     "name": "stderr",
     "output_type": "stream",
     "text": [
      "`summarise()` ungrouping output (override with `.groups` argument)\n"
     ]
    },
    {
     "data": {
      "image/png": "[encoded data removed]",
      "text/plain": [
       "plot without title"
      ]
     },
     "metadata": {},
     "output_type": "display_data"
    }
   ],
   "source": [
    "pAGNO = data %>% filter(CATEGORY == 'Demand' & SECTOR != 'Agricultural') %>% group_by(YEAR) %>% \n",
    "    summarise(VOL_acft = sum(QUANTITY)) %>% ggplot(aes(YEAR,VOL_acft)) + \n",
    "    geom_line(size = 1) + xlab(\"Year\") + ylab(\"Volume (ac-ft)\")"
   ]
  },
  {
   "cell_type": "code",
   "execution_count": 102,
   "metadata": {},
   "outputs": [
    {
     "name": "stderr",
     "output_type": "stream",
     "text": [
      "`geom_smooth()` using formula 'y ~ x'\n"
     ]
    },
    {
     "data": {
      "image/png": "[encoded data removed]",
      "text/plain": [
       "plot without title"
      ]
     },
     "metadata": {},
     "output_type": "display_data"
    }
   ],
   "source": [
    "grid.arrange(p1,p2,pAGNO,nrow=3)"
   ]
  },
  {
   "cell_type": "code",
   "execution_count": 101,
   "metadata": {},
   "outputs": [
    {
     "data": {
      "image/png": "[encoded data removed]",
      "text/plain": [
       "plot without title"
      ]
     },
     "metadata": {},
     "output_type": "display_data"
    }
   ],
   "source": [
    "grid.arrange(p3,p4,nrow=2)"
   ]
  },
  {
   "cell_type": "code",
   "execution_count": 37,
   "metadata": {},
   "outputs": [
    {
     "data": {
      "text/html": [
       "<table>\n",
       "<thead><tr><th scope=col>YEAR</th><th scope=col>AMA</th><th scope=col>SECTOR</th><th scope=col>CATEGORY</th><th scope=col>PARENT WATER TYPE OR SECTOR</th><th scope=col>BUDGET ELEMENT</th><th scope=col>QUANTITY</th></tr></thead>\n",
       "<tbody>\n",
       "\t<tr><td>1985         </td><td>PHOENIX AMA  </td><td>Municipal    </td><td>Supply       </td><td>Groundwater  </td><td>Groundwater  </td><td>225094       </td></tr>\n",
       "\t<tr><td>1985         </td><td>PHOENIX AMA  </td><td>Municipal    </td><td>Supply       </td><td>Surface Water</td><td>Surface Water</td><td>360702       </td></tr>\n",
       "\t<tr><td>1985         </td><td>PHOENIX AMA  </td><td>Municipal    </td><td>Supply       </td><td>Spill        </td><td>Spill        </td><td> 47705       </td></tr>\n",
       "\t<tr><td>1985         </td><td>PHOENIX AMA  </td><td>Industrial   </td><td>Supply       </td><td>Groundwater  </td><td>Groundwater  </td><td> 69229       </td></tr>\n",
       "\t<tr><td>1985         </td><td>PHOENIX AMA  </td><td>Industrial   </td><td>Supply       </td><td>Surface Water</td><td>Surface Water</td><td>  5810       </td></tr>\n",
       "\t<tr><td>1985         </td><td>PHOENIX AMA  </td><td>Industrial   </td><td>Supply       </td><td>Effluent     </td><td>Effluent     </td><td> 13628       </td></tr>\n",
       "</tbody>\n",
       "</table>\n"
      ],
      "text/latex": [
       "\\begin{tabular}{r|lllllll}\n",
       " YEAR & AMA & SECTOR & CATEGORY & PARENT WATER TYPE OR SECTOR & BUDGET ELEMENT & QUANTITY\\\\\n",
       "\\hline\n",
       "\t 1985          & PHOENIX AMA   & Municipal     & Supply        & Groundwater   & Groundwater   & 225094       \\\\\n",
       "\t 1985          & PHOENIX AMA   & Municipal     & Supply        & Surface Water & Surface Water & 360702       \\\\\n",
       "\t 1985          & PHOENIX AMA   & Municipal     & Supply        & Spill         & Spill         &  47705       \\\\\n",
       "\t 1985          & PHOENIX AMA   & Industrial    & Supply        & Groundwater   & Groundwater   &  69229       \\\\\n",
       "\t 1985          & PHOENIX AMA   & Industrial    & Supply        & Surface Water & Surface Water &   5810       \\\\\n",
       "\t 1985          & PHOENIX AMA   & Industrial    & Supply        & Effluent      & Effluent      &  13628       \\\\\n",
       "\\end{tabular}\n"
      ],
      "text/markdown": [
       "\n",
       "| YEAR | AMA | SECTOR | CATEGORY | PARENT WATER TYPE OR SECTOR | BUDGET ELEMENT | QUANTITY |\n",
       "|---|---|---|---|---|---|---|\n",
       "| 1985          | PHOENIX AMA   | Municipal     | Supply        | Groundwater   | Groundwater   | 225094        |\n",
       "| 1985          | PHOENIX AMA   | Municipal     | Supply        | Surface Water | Surface Water | 360702        |\n",
       "| 1985          | PHOENIX AMA   | Municipal     | Supply        | Spill         | Spill         |  47705        |\n",
       "| 1985          | PHOENIX AMA   | Industrial    | Supply        | Groundwater   | Groundwater   |  69229        |\n",
       "| 1985          | PHOENIX AMA   | Industrial    | Supply        | Surface Water | Surface Water |   5810        |\n",
       "| 1985          | PHOENIX AMA   | Industrial    | Supply        | Effluent      | Effluent      |  13628        |\n",
       "\n"
      ],
      "text/plain": [
       "  YEAR AMA         SECTOR     CATEGORY PARENT WATER TYPE OR SECTOR\n",
       "1 1985 PHOENIX AMA Municipal  Supply   Groundwater                \n",
       "2 1985 PHOENIX AMA Municipal  Supply   Surface Water              \n",
       "3 1985 PHOENIX AMA Municipal  Supply   Spill                      \n",
       "4 1985 PHOENIX AMA Industrial Supply   Groundwater                \n",
       "5 1985 PHOENIX AMA Industrial Supply   Surface Water              \n",
       "6 1985 PHOENIX AMA Industrial Supply   Effluent                   \n",
       "  BUDGET ELEMENT QUANTITY\n",
       "1 Groundwater    225094  \n",
       "2 Surface Water  360702  \n",
       "3 Spill           47705  \n",
       "4 Groundwater     69229  \n",
       "5 Surface Water    5810  \n",
       "6 Effluent        13628  "
      ]
     },
     "metadata": {},
     "output_type": "display_data"
    }
   ],
   "source": [
    "head(supply) "
   ]
  },
  {
   "cell_type": "code",
   "execution_count": 38,
   "metadata": {},
   "outputs": [],
   "source": [
    "names(supply) = c('YEAR','AMA','SECTOR','CATEGORY','WATER_TYPE','BUDGET_TYPE','QUANTITY')"
   ]
  },
  {
   "cell_type": "code",
   "execution_count": 39,
   "metadata": {},
   "outputs": [
    {
     "data": {
      "text/html": [
       "<ol class=list-inline>\n",
       "\t<li>'Groundwater'</li>\n",
       "\t<li>'Surface Water'</li>\n",
       "\t<li>'Spill'</li>\n",
       "\t<li>'Effluent'</li>\n",
       "\t<li>'Other'</li>\n",
       "\t<li>'CAP'</li>\n",
       "\t<li>'Direct Use Effluent'</li>\n",
       "\t<li>'Poor Quality GW'</li>\n",
       "\t<li>'GSF (EFFLUENT)'</li>\n",
       "\t<li>'GSF (CAP)'</li>\n",
       "\t<li>'Excess'</li>\n",
       "\t<li>'Recovered CAP'</li>\n",
       "\t<li>'Recovered Effluent'</li>\n",
       "\t<li>'Groundwater Allowance Pumping'</li>\n",
       "\t<li>'Weighted Exchange Effluent'</li>\n",
       "\t<li>'Recovered Surface Water'</li>\n",
       "\t<li>'Remediation water'</li>\n",
       "\t<li>'Surface water'</li>\n",
       "\t<li>'CAP GSF'</li>\n",
       "\t<li>'Recovered Reclaimed'</li>\n",
       "</ol>\n"
      ],
      "text/latex": [
       "\\begin{enumerate*}\n",
       "\\item 'Groundwater'\n",
       "\\item 'Surface Water'\n",
       "\\item 'Spill'\n",
       "\\item 'Effluent'\n",
       "\\item 'Other'\n",
       "\\item 'CAP'\n",
       "\\item 'Direct Use Effluent'\n",
       "\\item 'Poor Quality GW'\n",
       "\\item 'GSF (EFFLUENT)'\n",
       "\\item 'GSF (CAP)'\n",
       "\\item 'Excess'\n",
       "\\item 'Recovered CAP'\n",
       "\\item 'Recovered Effluent'\n",
       "\\item 'Groundwater Allowance Pumping'\n",
       "\\item 'Weighted Exchange Effluent'\n",
       "\\item 'Recovered Surface Water'\n",
       "\\item 'Remediation water'\n",
       "\\item 'Surface water'\n",
       "\\item 'CAP GSF'\n",
       "\\item 'Recovered Reclaimed'\n",
       "\\end{enumerate*}\n"
      ],
      "text/markdown": [
       "1. 'Groundwater'\n",
       "2. 'Surface Water'\n",
       "3. 'Spill'\n",
       "4. 'Effluent'\n",
       "5. 'Other'\n",
       "6. 'CAP'\n",
       "7. 'Direct Use Effluent'\n",
       "8. 'Poor Quality GW'\n",
       "9. 'GSF (EFFLUENT)'\n",
       "10. 'GSF (CAP)'\n",
       "11. 'Excess'\n",
       "12. 'Recovered CAP'\n",
       "13. 'Recovered Effluent'\n",
       "14. 'Groundwater Allowance Pumping'\n",
       "15. 'Weighted Exchange Effluent'\n",
       "16. 'Recovered Surface Water'\n",
       "17. 'Remediation water'\n",
       "18. 'Surface water'\n",
       "19. 'CAP GSF'\n",
       "20. 'Recovered Reclaimed'\n",
       "\n",
       "\n"
      ],
      "text/plain": [
       " [1] \"Groundwater\"                   \"Surface Water\"                \n",
       " [3] \"Spill\"                         \"Effluent\"                     \n",
       " [5] \"Other\"                         \"CAP\"                          \n",
       " [7] \"Direct Use Effluent\"           \"Poor Quality GW\"              \n",
       " [9] \"GSF (EFFLUENT)\"                \"GSF (CAP)\"                    \n",
       "[11] \"Excess\"                        \"Recovered CAP\"                \n",
       "[13] \"Recovered Effluent\"            \"Groundwater Allowance Pumping\"\n",
       "[15] \"Weighted Exchange Effluent\"    \"Recovered Surface Water\"      \n",
       "[17] \"Remediation water\"             \"Surface water\"                \n",
       "[19] \"CAP GSF\"                       \"Recovered Reclaimed\"          "
      ]
     },
     "metadata": {},
     "output_type": "display_data"
    }
   ],
   "source": [
    "unique(supply$BUDGET_TYPE)"
   ]
  },
  {
   "cell_type": "code",
   "execution_count": 40,
   "metadata": {},
   "outputs": [
    {
     "name": "stderr",
     "output_type": "stream",
     "text": [
      "`summarise()` regrouping output by 'YEAR' (override with `.groups` argument)\n"
     ]
    }
   ],
   "source": [
    "p5 = supply %>% filter(WATER_TYPE=='CAP'|WATER_TYPE=='Groundwater'|WATER_TYPE=='Surface Water') %>% \n",
    "    group_by(YEAR,WATER_TYPE) %>% summarise(VOL_acft = sum(QUANTITY)) %>% ggplot(aes(YEAR,VOL_acft,color = WATER_TYPE)) + \n",
    "    geom_line(size = 1) + xlab(\"Year\") + ylab(\"Volume (ac-ft)\")"
   ]
  },
  {
   "cell_type": "code",
   "execution_count": 41,
   "metadata": {},
   "outputs": [
    {
     "name": "stderr",
     "output_type": "stream",
     "text": [
      "`summarise()` ungrouping output (override with `.groups` argument)\n"
     ]
    }
   ],
   "source": [
    "p6 = supply %>% filter(WATER_TYPE=='CAP'|WATER_TYPE=='Groundwater'|WATER_TYPE=='Surface Water') %>% \n",
    "    group_by(YEAR) %>% summarise(VOL_acft = sum(QUANTITY)) %>% ggplot(aes(YEAR,VOL_acft)) + \n",
    "    geom_line(size = 1) + xlab(\"Year\") + ylab(\"Volume (ac-ft)\") + geom_smooth(method = 'lm')"
   ]
  },
  {
   "cell_type": "code",
   "execution_count": 42,
   "metadata": {},
   "outputs": [
    {
     "name": "stderr",
     "output_type": "stream",
     "text": [
      "`summarise()` ungrouping output (override with `.groups` argument)\n"
     ]
    }
   ],
   "source": [
    "p7 = supply %>% filter(WATER_TYPE=='Groundwater'|WATER_TYPE=='Surface Water') %>% \n",
    "    group_by(YEAR) %>% summarise(VOL_acft = sum(QUANTITY)) %>% ggplot(aes(YEAR,VOL_acft)) + \n",
    "    geom_line(size = 1) + xlab(\"Year\") + ylab(\"Volume (ac-ft)\")"
   ]
  },
  {
   "cell_type": "code",
   "execution_count": 43,
   "metadata": {},
   "outputs": [
    {
     "name": "stderr",
     "output_type": "stream",
     "text": [
      "`geom_smooth()` using formula 'y ~ x'\n"
     ]
    },
    {
     "data": {
      "image/png": "[encoded data removed]",
      "text/plain": [
       "plot without title"
      ]
     },
     "metadata": {},
     "output_type": "display_data"
    }
   ],
   "source": [
    "grid.arrange(p5,p6,p7)"
   ]
  },
  {
   "cell_type": "markdown",
   "metadata": {},
   "source": [
    "## 2. Modelling"
   ]
  },
  {
   "cell_type": "code",
   "execution_count": 79,
   "metadata": {},
   "outputs": [
    {
     "name": "stderr",
     "output_type": "stream",
     "text": [
      "Parsed with column specification:\n",
      "cols(\n",
      "  Year = col_double(),\n",
      "  Temp = col_double(),\n",
      "  CO2 = col_double(),\n",
      "  CH4 = col_double(),\n",
      "  sunspot = col_double(),\n",
      "  volcanic = col_double()\n",
      ")\n",
      "Parsed with column specification:\n",
      "cols(\n",
      "  date = col_double(),\n",
      "  Population = col_double(),\n",
      "  `Annual Change` = col_double()\n",
      ")\n"
     ]
    }
   ],
   "source": [
    "glob = read_csv(\"Data/glob.csv\")\n",
    "pop = read_csv(\"Data/population.csv\")"
   ]
  },
  {
   "cell_type": "markdown",
   "metadata": {},
   "source": [
    "### Inflow Models"
   ]
  },
  {
   "cell_type": "code",
   "execution_count": 94,
   "metadata": {},
   "outputs": [
    {
     "name": "stderr",
     "output_type": "stream",
     "text": [
      "`summarise()` ungrouping output (override with `.groups` argument)\n"
     ]
    },
    {
     "data": {
      "text/plain": [
       "\n",
       "Call:\n",
       "lm(formula = VOLUME ~ CO2, data = sw)\n",
       "\n",
       "Residuals:\n",
       "    Min      1Q  Median      3Q     Max \n",
       "-252581  -39939   20077   81185  169198 \n",
       "\n",
       "Coefficients:\n",
       "            Estimate Std. Error t value Pr(>|t|)    \n",
       "(Intercept)  2775734     487046   5.699 4.12e-06 ***\n",
       "CO2            -5349       1317  -4.063 0.000355 ***\n",
       "---\n",
       "Signif. codes:  0 '***' 0.001 '**' 0.01 '*' 0.05 '.' 0.1 ' ' 1\n",
       "\n",
       "Residual standard error: 113000 on 28 degrees of freedom\n",
       "  (5 observations deleted due to missingness)\n",
       "Multiple R-squared:  0.3709,\tAdjusted R-squared:  0.3484 \n",
       "F-statistic: 16.51 on 1 and 28 DF,  p-value: 0.0003551\n"
      ]
     },
     "metadata": {},
     "output_type": "display_data"
    }
   ],
   "source": [
    "glob85 = glob %>% filter(Year >= 1985)\n",
    "sw = supply %>% filter(WATER_TYPE == 'Surface Water') %>% group_by(YEAR) %>% summarise(VOLUME = sum(QUANTITY)) %>%\n",
    "    left_join(glob85, by = c(YEAR='Year'))\n",
    "sw_mod = lm(VOLUME ~ CO2, data = sw)\n",
    "summary(sw_mod)"
   ]
  },
  {
   "cell_type": "code",
   "execution_count": 95,
   "metadata": {},
   "outputs": [
    {
     "name": "stderr",
     "output_type": "stream",
     "text": [
      "`summarise()` ungrouping output (override with `.groups` argument)\n"
     ]
    },
    {
     "data": {
      "text/plain": [
       "\n",
       "Call:\n",
       "lm(formula = VOLUME ~ CO2, data = gw)\n",
       "\n",
       "Residuals:\n",
       "    Min      1Q  Median      3Q     Max \n",
       "-270595  -40725   -9258   62030  213532 \n",
       "\n",
       "Coefficients:\n",
       "            Estimate Std. Error t value Pr(>|t|)    \n",
       "(Intercept)  3488741     445997   7.822 1.61e-08 ***\n",
       "CO2            -7211       1206  -5.981 1.93e-06 ***\n",
       "---\n",
       "Signif. codes:  0 '***' 0.001 '**' 0.01 '*' 0.05 '.' 0.1 ' ' 1\n",
       "\n",
       "Residual standard error: 103500 on 28 degrees of freedom\n",
       "  (5 observations deleted due to missingness)\n",
       "Multiple R-squared:  0.5609,\tAdjusted R-squared:  0.5452 \n",
       "F-statistic: 35.77 on 1 and 28 DF,  p-value: 1.928e-06\n"
      ]
     },
     "metadata": {},
     "output_type": "display_data"
    }
   ],
   "source": [
    "gw = supply %>% filter(WATER_TYPE == 'Groundwater') %>% group_by(YEAR) %>% summarise(VOLUME = sum(QUANTITY)) %>%\n",
    "    left_join(glob85, by = c(YEAR='Year'))\n",
    "gw_mod = lm(VOLUME ~ CO2, data = gw)\n",
    "summary(gw_mod)"
   ]
  },
  {
   "cell_type": "code",
   "execution_count": 98,
   "metadata": {},
   "outputs": [
    {
     "name": "stderr",
     "output_type": "stream",
     "text": [
      "`summarise()` ungrouping output (override with `.groups` argument)\n"
     ]
    },
    {
     "data": {
      "text/plain": [
       "\n",
       "Call:\n",
       "lm(formula = VOLUME ~ CO2, data = cap)\n",
       "\n",
       "Residuals:\n",
       "    Min      1Q  Median      3Q     Max \n",
       "-164755  -70721  -38134  100457  270929 \n",
       "\n",
       "Coefficients:\n",
       "            Estimate Std. Error t value Pr(>|t|)    \n",
       "(Intercept) -3782473     504672  -7.495 4.61e-08 ***\n",
       "CO2            11428       1361   8.395 5.25e-09 ***\n",
       "---\n",
       "Signif. codes:  0 '***' 0.001 '**' 0.01 '*' 0.05 '.' 0.1 ' ' 1\n",
       "\n",
       "Residual standard error: 111900 on 27 degrees of freedom\n",
       "  (5 observations deleted due to missingness)\n",
       "Multiple R-squared:  0.723,\tAdjusted R-squared:  0.7128 \n",
       "F-statistic: 70.48 on 1 and 27 DF,  p-value: 5.252e-09\n"
      ]
     },
     "metadata": {},
     "output_type": "display_data"
    }
   ],
   "source": [
    "cap = supply %>% filter(WATER_TYPE == 'CAP') %>% group_by(YEAR) %>% summarise(VOLUME = sum(QUANTITY)) %>%\n",
    "    left_join(glob85, by = c(YEAR='Year'))\n",
    "cap_mod = lm(VOLUME ~ CO2, data = cap)\n",
    "summary(cap_mod)"
   ]
  },
  {
   "cell_type": "markdown",
   "metadata": {},
   "source": [
    "### Outflow Models"
   ]
  },
  {
   "cell_type": "code",
   "execution_count": 88,
   "metadata": {},
   "outputs": [
    {
     "name": "stderr",
     "output_type": "stream",
     "text": [
      "`summarise()` ungrouping output (override with `.groups` argument)\n"
     ]
    },
    {
     "data": {
      "text/plain": [
       "\n",
       "Call:\n",
       "lm(formula = VOLUME ~ POPULATION, data = popdem)\n",
       "\n",
       "Residuals:\n",
       "    Min      1Q  Median      3Q     Max \n",
       "-138271  -68974   17444   50091  190673 \n",
       "\n",
       "Coefficients:\n",
       "             Estimate Std. Error t value Pr(>|t|)    \n",
       "(Intercept) 7.003e+05  4.978e+04   14.07 1.70e-15 ***\n",
       "POPULATION  2.286e-01  1.588e-02   14.40 8.75e-16 ***\n",
       "---\n",
       "Signif. codes:  0 '***' 0.001 '**' 0.01 '*' 0.05 '.' 0.1 ' ' 1\n",
       "\n",
       "Residual standard error: 77040 on 33 degrees of freedom\n",
       "Multiple R-squared:  0.8627,\tAdjusted R-squared:  0.8585 \n",
       "F-statistic: 207.3 on 1 and 33 DF,  p-value: 8.751e-16\n"
      ]
     },
     "metadata": {},
     "output_type": "display_data"
    }
   ],
   "source": [
    "demQ = demand %>% filter(SECTOR != 'Agricultural') %>% group_by(YEAR) %>% summarise(VOLUME = sum(QUANTITY))\n",
    "names(pop) = c('YEAR','POPULATION','PERCENT_DIF')\n",
    "pop = pop %>% filter(YEAR>=1985)\n",
    "popdem = demQ %>% left_join(pop, by = 'YEAR')\n",
    "popdem_mod = lm(VOLUME ~ POPULATION, data = popdem)\n",
    "summary(popdem_mod)"
   ]
  },
  {
   "cell_type": "code",
   "execution_count": 90,
   "metadata": {},
   "outputs": [
    {
     "data": {
      "text/plain": [
       "\n",
       "Call:\n",
       "lm(formula = POPULATION ~ YEAR, data = popdem)\n",
       "\n",
       "Residuals:\n",
       "   Min     1Q Median     3Q    Max \n",
       "-33710 -22906  -4794  20538  58869 \n",
       "\n",
       "Coefficients:\n",
       "              Estimate Std. Error t value Pr(>|t|)    \n",
       "(Intercept) -1.595e+08  9.161e+05  -174.1   <2e-16 ***\n",
       "YEAR         8.118e+04  4.576e+02   177.4   <2e-16 ***\n",
       "---\n",
       "Signif. codes:  0 '***' 0.001 '**' 0.01 '*' 0.05 '.' 0.1 ' ' 1\n",
       "\n",
       "Residual standard error: 27340 on 33 degrees of freedom\n",
       "Multiple R-squared:  0.999,\tAdjusted R-squared:  0.9989 \n",
       "F-statistic: 3.147e+04 on 1 and 33 DF,  p-value: < 2.2e-16\n"
      ]
     },
     "metadata": {},
     "output_type": "display_data"
    }
   ],
   "source": [
    "popmod = lm(POPULATION ~ YEAR, data = popdem)\n",
    "summary(popmod)"
   ]
  },
  {
   "cell_type": "code",
   "execution_count": 89,
   "metadata": {},
   "outputs": [
    {
     "name": "stderr",
     "output_type": "stream",
     "text": [
      "`summarise()` ungrouping output (override with `.groups` argument)\n"
     ]
    },
    {
     "data": {
      "text/plain": [
       "\n",
       "Call:\n",
       "lm(formula = VOLUME ~ YEAR, data = aggQ)\n",
       "\n",
       "Residuals:\n",
       "    Min      1Q  Median      3Q     Max \n",
       "-136843  -70321   14431   49346  158376 \n",
       "\n",
       "Coefficients:\n",
       "            Estimate Std. Error t value Pr(>|t|)    \n",
       "(Intercept) 36245417    2757611   13.14 1.15e-14 ***\n",
       "YEAR          -17644       1377  -12.81 2.35e-14 ***\n",
       "---\n",
       "Signif. codes:  0 '***' 0.001 '**' 0.01 '*' 0.05 '.' 0.1 ' ' 1\n",
       "\n",
       "Residual standard error: 82300 on 33 degrees of freedom\n",
       "Multiple R-squared:  0.8326,\tAdjusted R-squared:  0.8275 \n",
       "F-statistic: 164.1 on 1 and 33 DF,  p-value: 2.347e-14\n"
      ]
     },
     "metadata": {},
     "output_type": "display_data"
    }
   ],
   "source": [
    "aggQ = demand %>% filter(SECTOR == 'Agricultural') %>% group_by(YEAR) %>% summarise(VOLUME = sum(QUANTITY))\n",
    "aggdem_mod = lm(VOLUME ~ YEAR, data = aggQ)\n",
    "summary(aggdem_mod)"
   ]
  },
  {
   "cell_type": "code",
   "execution_count": null,
   "metadata": {},
   "outputs": [],
   "source": []
  }
 ],
 "metadata": {
  "kernelspec": {
   "display_name": "R",
   "language": "R",
   "name": "ir"
  },
  "language_info": {
   "codemirror_mode": "r",
   "file_extension": ".r",
   "mimetype": "text/x-r-source",
   "name": "R",
   "pygments_lexer": "r",
   "version": "3.6.1"
  }
 },
 "nbformat": 4,
 "nbformat_minor": 4
}
